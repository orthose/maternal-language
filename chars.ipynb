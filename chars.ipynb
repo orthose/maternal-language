{
 "cells": [
  {
   "cell_type": "code",
   "execution_count": 1,
   "id": "3e8e1ebd",
   "metadata": {},
   "outputs": [],
   "source": [
    "from utils import load_data"
   ]
  },
  {
   "cell_type": "code",
   "execution_count": 2,
   "id": "4fbe1d2c",
   "metadata": {},
   "outputs": [],
   "source": [
    "# Chargement des données\n",
    "df = load_data(\"./data/train.txt\")\n",
    "X = df[\"text\"]"
   ]
  },
  {
   "cell_type": "markdown",
   "id": "1f37474d",
   "metadata": {},
   "source": [
    "# Caractères\n",
    "On cherche à analyser les caractères utilisés pour voir si on ne peut pas nettoyer le texte en le débarrassant de caractères inutiles."
   ]
  },
  {
   "cell_type": "code",
   "execution_count": 3,
   "id": "d88f79bf",
   "metadata": {},
   "outputs": [],
   "source": [
    "from collections import Counter"
   ]
  },
  {
   "cell_type": "code",
   "execution_count": 4,
   "id": "e8bfadc6",
   "metadata": {},
   "outputs": [
    {
     "data": {
      "text/plain": [
       "Counter({' ': 3452797,\n",
       "         'I': 62484,\n",
       "         'T': 36018,\n",
       "         'h': 695791,\n",
       "         'e': 1814180,\n",
       "         'i': 937505,\n",
       "         'm': 343676,\n",
       "         'p': 327313,\n",
       "         'o': 1128626,\n",
       "         'r': 771923,\n",
       "         't': 1334123,\n",
       "         'a': 1041637,\n",
       "         'n': 984804,\n",
       "         'c': 431518,\n",
       "         'd': 472773,\n",
       "         'u': 416545,\n",
       "         'l': 570986,\n",
       "         'y': 324570,\n",
       "         'f': 283569,\n",
       "         'v': 166801,\n",
       "         'g': 268564,\n",
       "         's': 866695,\n",
       "         ',': 127352,\n",
       "         'E': 6669,\n",
       "         'b': 196444,\n",
       "         'k': 106117,\n",
       "         'w': 258693,\n",
       "         '.': 158991,\n",
       "         'A': 18244,\n",
       "         'W': 8631,\n",
       "         'S': 14003,\n",
       "         'F': 13330,\n",
       "         'x': 28415,\n",
       "         'z': 9470,\n",
       "         'j': 33452,\n",
       "         '-': 4735,\n",
       "         'U': 2180,\n",
       "         'M': 6256,\n",
       "         'B': 9426,\n",
       "         'O': 7328,\n",
       "         'q': 8209,\n",
       "         'N': 5123,\n",
       "         \"'\": 25603,\n",
       "         'D': 2466,\n",
       "         'L': 3176,\n",
       "         'Y': 3990,\n",
       "         '/': 1129,\n",
       "         'H': 7850,\n",
       "         '(': 1339,\n",
       "         ')': 1390,\n",
       "         ':': 2296,\n",
       "         '9': 365,\n",
       "         '0': 2245,\n",
       "         '3': 515,\n",
       "         'C': 4178,\n",
       "         'V': 1412,\n",
       "         'P': 3574,\n",
       "         '2': 1207,\n",
       "         'J': 1149,\n",
       "         '!': 1316,\n",
       "         ';': 1625,\n",
       "         '`': 7844,\n",
       "         '1': 1188,\n",
       "         '+': 42,\n",
       "         '=': 41,\n",
       "         '?': 3200,\n",
       "         'G': 1917,\n",
       "         'K': 1030,\n",
       "         '&': 166,\n",
       "         'R': 2111,\n",
       "         '6': 304,\n",
       "         '4': 303,\n",
       "         '7': 223,\n",
       "         '8': 282,\n",
       "         '%': 173,\n",
       "         '5': 578,\n",
       "         '>': 59,\n",
       "         'X': 121,\n",
       "         'Z': 67,\n",
       "         'Q': 73,\n",
       "         '<': 35,\n",
       "         '$': 51,\n",
       "         '~': 12,\n",
       "         '\\\\': 101,\n",
       "         '*': 112,\n",
       "         '[': 31,\n",
       "         ']': 24,\n",
       "         '{': 6,\n",
       "         '}': 7,\n",
       "         '_': 73,\n",
       "         '|': 42,\n",
       "         '^': 11,\n",
       "         '#': 16,\n",
       "         '´': 1})"
      ]
     },
     "execution_count": 4,
     "metadata": {},
     "output_type": "execute_result"
    }
   ],
   "source": [
    "counter = Counter([c for doc in X for c in doc])\n",
    "counter"
   ]
  },
  {
   "cell_type": "markdown",
   "id": "13d0ed95",
   "metadata": {},
   "source": [
    "On n'a pas de caractères bizarres tout est ASCII. Par contre l'utilisation de certains caractères peut être abusive notamment en ce qui concerne les caractères spéciaux."
   ]
  },
  {
   "cell_type": "code",
   "execution_count": 5,
   "id": "f738ea98",
   "metadata": {},
   "outputs": [],
   "source": [
    "# Recherche de documents comportant des caractères spéciaux\n",
    "def find_example(char: str, window: int = 16, index=False):\n",
    "    res = []\n",
    "    for idx, doc in enumerate(X):\n",
    "        occ = [i for i, c in enumerate(doc) if c == char]\n",
    "        for i in occ:\n",
    "            ext = doc[max(0, i-window):i+window+1]\n",
    "            if index:\n",
    "                ext = (idx, ext)\n",
    "            res.append(ext)\n",
    "    return res"
   ]
  },
  {
   "cell_type": "code",
   "execution_count": 6,
   "id": "db461981",
   "metadata": {},
   "outputs": [
    {
     "data": {
      "text/plain": [
       "(6, \" the statement '' Young people no\")"
      ]
     },
     "execution_count": 6,
     "metadata": {},
     "output_type": "execute_result"
    }
   ],
   "source": [
    "find_example(\"'\", index=True)[3]"
   ]
  },
  {
   "cell_type": "code",
   "execution_count": 7,
   "id": "7d449df6",
   "metadata": {},
   "outputs": [
    {
     "data": {
      "text/plain": [
       "\"ave learned ` 1 + 1 = 2 ' . we kn\""
      ]
     },
     "execution_count": 7,
     "metadata": {},
     "output_type": "execute_result"
    }
   ],
   "source": [
    "find_example('+')[0]"
   ]
  },
  {
   "cell_type": "code",
   "execution_count": 8,
   "id": "a923b8b7",
   "metadata": {},
   "outputs": [
    {
     "data": {
      "text/plain": [
       "'. Conclusion : ************** I d'"
      ]
     },
     "execution_count": 8,
     "metadata": {},
     "output_type": "execute_result"
    }
   ],
   "source": [
    "find_example('*')[3]"
   ]
  },
  {
   "cell_type": "code",
   "execution_count": 9,
   "id": "ac31816c",
   "metadata": {},
   "outputs": [
    {
     "data": {
      "text/plain": [
       "\"learned ` 1 + 1 = 2 ' . we know n\""
      ]
     },
     "execution_count": 9,
     "metadata": {},
     "output_type": "execute_result"
    }
   ],
   "source": [
    "find_example('=')[0]"
   ]
  },
  {
   "cell_type": "code",
   "execution_count": 10,
   "id": "4a760bc9",
   "metadata": {},
   "outputs": [
    {
     "data": {
      "text/plain": [
       "' are as below : # Ideas and conce'"
      ]
     },
     "execution_count": 10,
     "metadata": {},
     "output_type": "execute_result"
    }
   ],
   "source": [
    "find_example('#')[0]"
   ]
  },
  {
   "cell_type": "code",
   "execution_count": 11,
   "id": "09eb9f5d",
   "metadata": {},
   "outputs": [
    {
     "data": {
      "text/plain": [
       "['pproximately 20 ~ 30 % of their b',\n",
       " ', If you are 50 ~ 60 years old yo',\n",
       " '< < < < < __ -- ~ ~ -- __The End ']"
      ]
     },
     "execution_count": 11,
     "metadata": {},
     "output_type": "execute_result"
    }
   ],
   "source": [
    "find_example('~')[0:3]"
   ]
  },
  {
   "cell_type": "code",
   "execution_count": 12,
   "id": "eea61bea",
   "metadata": {},
   "outputs": [
    {
     "data": {
      "text/plain": [
       "' later life you | ll not be able '"
      ]
     },
     "execution_count": 12,
     "metadata": {},
     "output_type": "execute_result"
    }
   ],
   "source": [
    "find_example('|')[0]"
   ]
  },
  {
   "cell_type": "code",
   "execution_count": 13,
   "id": "f1e5880f",
   "metadata": {},
   "outputs": [
    {
     "data": {
      "text/plain": [
       "'be the best age [ use of young pe'"
      ]
     },
     "execution_count": 13,
     "metadata": {},
     "output_type": "execute_result"
    }
   ],
   "source": [
    "find_example('[')[0]"
   ]
  },
  {
   "cell_type": "code",
   "execution_count": 14,
   "id": "07febea8",
   "metadata": {},
   "outputs": [
    {
     "data": {
      "text/plain": [
       "' do not pollute { like sun , wind'"
      ]
     },
     "execution_count": 14,
     "metadata": {},
     "output_type": "execute_result"
    }
   ],
   "source": [
    "find_example('{')[0]"
   ]
  },
  {
   "cell_type": "code",
   "execution_count": 15,
   "id": "8845f15f",
   "metadata": {},
   "outputs": [
    {
     "data": {
      "text/plain": [
       "[(1762, 'icles and roller_skates to go to '),\n",
       " (2397, ' not during week_end and also the'),\n",
       " (3065, '< < < < < < < < __ -- ~ ~ -- __Th')]"
      ]
     },
     "execution_count": 15,
     "metadata": {},
     "output_type": "execute_result"
    }
   ],
   "source": [
    "find_example('_', index=True)[0:3]"
   ]
  },
  {
   "cell_type": "code",
   "execution_count": 16,
   "id": "643679a9",
   "metadata": {},
   "outputs": [
    {
     "data": {
      "text/plain": [
       "' < < < < < < < < < __ -- ~ ~ -- __The End __ -- ~ ~ -- __ > > > > > > > > >'"
      ]
     },
     "execution_count": 16,
     "metadata": {},
     "output_type": "execute_result"
    }
   ],
   "source": [
    "X[3065][-75:]"
   ]
  },
  {
   "cell_type": "code",
   "execution_count": 17,
   "id": "9c7e03cf",
   "metadata": {},
   "outputs": [
    {
     "data": {
      "text/plain": [
       "\" `` TRY AND TRY UNTILL U SUCCED '' ____________________________________________________ - i agree wi\""
      ]
     },
     "execution_count": 17,
     "metadata": {},
     "output_type": "execute_result"
    }
   ],
   "source": [
    "X[4770][:100]"
   ]
  },
  {
   "cell_type": "code",
   "execution_count": 18,
   "id": "064fb38b",
   "metadata": {},
   "outputs": [
    {
     "data": {
      "text/plain": [
       "\"have adapt to t \\\\ people 's expec\""
      ]
     },
     "execution_count": 18,
     "metadata": {},
     "output_type": "execute_result"
    }
   ],
   "source": [
    "find_example('\\\\')[0]"
   ]
  },
  {
   "cell_type": "code",
   "execution_count": 19,
   "id": "4c9c1f2e",
   "metadata": {},
   "outputs": [
    {
     "data": {
      "text/plain": [
       "' a saying that `` teach him ` how'"
      ]
     },
     "execution_count": 19,
     "metadata": {},
     "output_type": "execute_result"
    }
   ],
   "source": [
    "find_example('`')[3]"
   ]
  },
  {
   "cell_type": "code",
   "execution_count": 20,
   "id": "a5877fd4",
   "metadata": {},
   "outputs": [
    {
     "data": {
      "text/plain": [
       "['g something won ´ t be useless bu']"
      ]
     },
     "execution_count": 20,
     "metadata": {},
     "output_type": "execute_result"
    }
   ],
   "source": [
    "find_example('´')"
   ]
  },
  {
   "cell_type": "code",
   "execution_count": 21,
   "id": "3f0cac46",
   "metadata": {},
   "outputs": [
    {
     "data": {
      "text/plain": [
       "'dfather sayed : ^ Give a smile an'"
      ]
     },
     "execution_count": 21,
     "metadata": {},
     "output_type": "execute_result"
    }
   ],
   "source": [
    "find_example('^')[0]"
   ]
  },
  {
   "cell_type": "code",
   "execution_count": 22,
   "id": "69639401",
   "metadata": {},
   "outputs": [
    {
     "data": {
      "text/plain": [
       "'ical records.70 % of the people r'"
      ]
     },
     "execution_count": 22,
     "metadata": {},
     "output_type": "execute_result"
    }
   ],
   "source": [
    "find_example('%')[0]"
   ]
  },
  {
   "cell_type": "code",
   "execution_count": 23,
   "id": "a21a8d3c",
   "metadata": {},
   "outputs": [],
   "source": [
    "import re\n",
    "\n",
    "def correct_special_chars(doc: str) -> str:\n",
    "    # Harmonisation de la ponctuation\n",
    "    doc = re.sub(r\"[\\[{]\", \"(\", doc)\n",
    "    doc = re.sub(r\"[\\]}]\", \")\", doc)\n",
    "    \n",
    "    # Suppression des caractères spéciaux\n",
    "    doc = re.sub(r\"[+*=#~^|_\\\\'`´]\", \"\", doc)\n",
    "    \n",
    "    return doc"
   ]
  },
  {
   "cell_type": "code",
   "execution_count": 24,
   "id": "83c24d51",
   "metadata": {},
   "outputs": [
    {
     "data": {
      "text/plain": [
       "0        IThe importance and popularity of travelling ...\n",
       "1        It is an important decision , how to plan you...\n",
       "2        Some people believe that young people can enj...\n",
       "3        Travelling is usually considered as good recr...\n",
       "4        i agree that . Life is a person live period o...\n",
       "                              ...                        \n",
       "9895     Nowadays , more and more people go abroad , n...\n",
       "9896     In accomplishing something that is risky come...\n",
       "9897     At the beginning of the 21st century , the in...\n",
       "9898     The number of cars in use across the world ha...\n",
       "9899     Many people think it is betters to have borad...\n",
       "Name: text, Length: 9900, dtype: object"
      ]
     },
     "execution_count": 24,
     "metadata": {},
     "output_type": "execute_result"
    }
   ],
   "source": [
    "df[\"text\"].apply(correct_special_chars)"
   ]
  },
  {
   "cell_type": "markdown",
   "id": "7a3f056c",
   "metadata": {},
   "source": [
    "# Tokenization des nombres"
   ]
  },
  {
   "cell_type": "code",
   "execution_count": 25,
   "id": "7bdba311",
   "metadata": {},
   "outputs": [
    {
     "data": {
      "text/plain": [
       "1873"
      ]
     },
     "execution_count": 25,
     "metadata": {},
     "output_type": "execute_result"
    }
   ],
   "source": [
    "count = 0\n",
    "for doc in X:\n",
    "    if re.match(\".*\\d.*\", doc) is not None:\n",
    "        count += 1\n",
    "count"
   ]
  },
  {
   "cell_type": "markdown",
   "id": "a8e0d29a",
   "metadata": {},
   "source": [
    "Il y a `1873/9900 = 19%` de documents avec des nombres. Est-ce qu'on ne pourrait pas tokenizer les nombres ?"
   ]
  },
  {
   "cell_type": "code",
   "execution_count": 26,
   "id": "dd74c253",
   "metadata": {},
   "outputs": [],
   "source": [
    "def tokenize_numbers(doc: str) -> str:\n",
    "    return re.sub(\"\\d+\", \"#NUMBER\", doc)"
   ]
  },
  {
   "cell_type": "code",
   "execution_count": 27,
   "id": "3d6c9832",
   "metadata": {},
   "outputs": [
    {
     "data": {
      "text/plain": [
       "0        IThe importance and popularity of travelling ...\n",
       "1        It is an important decision , how to plan you...\n",
       "2        Some people believe that young people can enj...\n",
       "3        Travelling is usually considered as good recr...\n",
       "4        i agree that . Life is a person live period o...\n",
       "                              ...                        \n",
       "9895     Nowadays , more and more people go abroad , n...\n",
       "9896     In accomplishing something that is risky come...\n",
       "9897     At the beginning of the #NUMBERst century , t...\n",
       "9898     The number of cars in use across the world ha...\n",
       "9899     Many people think it is betters to have borad...\n",
       "Name: text, Length: 9900, dtype: object"
      ]
     },
     "execution_count": 27,
     "metadata": {},
     "output_type": "execute_result"
    }
   ],
   "source": [
    "df[\"text\"].apply(tokenize_numbers)"
   ]
  },
  {
   "cell_type": "code",
   "execution_count": null,
   "id": "7b045494",
   "metadata": {},
   "outputs": [],
   "source": []
  }
 ],
 "metadata": {
  "kernelspec": {
   "display_name": "Python 3 (ipykernel)",
   "language": "python",
   "name": "python3"
  },
  "language_info": {
   "codemirror_mode": {
    "name": "ipython",
    "version": 3
   },
   "file_extension": ".py",
   "mimetype": "text/x-python",
   "name": "python",
   "nbconvert_exporter": "python",
   "pygments_lexer": "ipython3",
   "version": "3.8.10"
  }
 },
 "nbformat": 4,
 "nbformat_minor": 5
}
