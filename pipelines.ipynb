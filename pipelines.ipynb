{
 "cells": [
  {
   "cell_type": "markdown",
   "id": "fae43df7",
   "metadata": {},
   "source": [
    "# Pipelines\n",
    "Le but de ce notebook est de créer diverses pipelines allant de la préparation des données à l'entraînement du modèle et de les comparer afin de déterminer la stratégie permettant d'obtenir le meilleur score sur l'ensemble de validation."
   ]
  },
  {
   "cell_type": "code",
   "execution_count": 1,
   "id": "8f7c4035",
   "metadata": {},
   "outputs": [],
   "source": [
    "from utils import load_data, train_valid_test_split, PipelineEvaluator\n",
    "import estimators as est\n",
    "from sklearn.feature_extraction.text import CountVectorizer\n",
    "from sklearn.svm import LinearSVC\n",
    "from sklearn.pipeline import make_pipeline"
   ]
  },
  {
   "cell_type": "code",
   "execution_count": 2,
   "id": "768a5b8b",
   "metadata": {},
   "outputs": [],
   "source": [
    "# Chargement des données\n",
    "df = load_data(\"./data/train.txt\")\n",
    "\n",
    "# Découpage des données\n",
    "df_train, df_valid, df_test = train_valid_test_split(df, size=(600, 200, 100))\n",
    "\n",
    "X = df[\"text\"]\n",
    "X_train = df_train[\"text\"]\n",
    "y_train = df_train[\"language\"]\n",
    "X_valid = df_valid[\"text\"]\n",
    "y_valid = df_valid[\"language\"]\n",
    "X_test = df_test[\"text\"]\n",
    "y_test = df_test[\"language\"]\n",
    "\n",
    "# Évaluation des pipelines\n",
    "peval = PipelineEvaluator(X_train, y_train, X_valid, y_valid)"
   ]
  },
  {
   "cell_type": "markdown",
   "id": "5b75c0eb",
   "metadata": {},
   "source": [
    "# Baseline"
   ]
  },
  {
   "cell_type": "code",
   "execution_count": 3,
   "id": "88842e0b",
   "metadata": {},
   "outputs": [
    {
     "name": "stdout",
     "output_type": "stream",
     "text": [
      "!!! BEST !!!\n"
     ]
    },
    {
     "data": {
      "text/plain": [
       "0.6654162399577045"
      ]
     },
     "execution_count": 3,
     "metadata": {},
     "output_type": "execute_result"
    }
   ],
   "source": [
    "pipe = make_pipeline(CountVectorizer(), LinearSVC(random_state=42, max_iter=1500))\n",
    "peval.evaluate(pipe)"
   ]
  },
  {
   "cell_type": "markdown",
   "id": "bdbe30b0",
   "metadata": {},
   "source": [
    "# Caractères\n",
    "La correction des caractères spéciaux ne change pratiquement pas le score."
   ]
  },
  {
   "cell_type": "code",
   "execution_count": 4,
   "id": "5bacaa8f",
   "metadata": {},
   "outputs": [
    {
     "name": "stdout",
     "output_type": "stream",
     "text": [
      "!!! BEST !!!\n"
     ]
    },
    {
     "data": {
      "text/plain": [
       "0.6665963286741187"
      ]
     },
     "execution_count": 4,
     "metadata": {},
     "output_type": "execute_result"
    }
   ],
   "source": [
    "pipe = make_pipeline(est.CorrectSpecialChars(), CountVectorizer(), LinearSVC(random_state=42, max_iter=1500))\n",
    "peval.evaluate(pipe)"
   ]
  },
  {
   "cell_type": "markdown",
   "id": "1753f61f",
   "metadata": {},
   "source": [
    "# Nombres\n",
    "La tokenization des nombres n'a pratiquement aucun effet sur le score."
   ]
  },
  {
   "cell_type": "code",
   "execution_count": 5,
   "id": "5e5c738a",
   "metadata": {},
   "outputs": [
    {
     "name": "stdout",
     "output_type": "stream",
     "text": [
      "!!! BEST !!!\n"
     ]
    },
    {
     "data": {
      "text/plain": [
       "0.6666167551065664"
      ]
     },
     "execution_count": 5,
     "metadata": {},
     "output_type": "execute_result"
    }
   ],
   "source": [
    "pipe = make_pipeline(est.TokenizeNumbers(), CountVectorizer(), LinearSVC(random_state=42, max_iter=1500))\n",
    "peval.evaluate(pipe)"
   ]
  },
  {
   "cell_type": "markdown",
   "id": "e2b8975b",
   "metadata": {},
   "source": [
    "# CountVectorizer\n",
    "On cherche à optimiser les paramètres de CountVectorizer."
   ]
  },
  {
   "cell_type": "code",
   "execution_count": 6,
   "id": "e6de9be6",
   "metadata": {},
   "outputs": [
    {
     "name": "stdout",
     "output_type": "stream",
     "text": [
      "!!! BEST !!!\n"
     ]
    },
    {
     "data": {
      "text/plain": [
       "0.6750873709348387"
      ]
     },
     "execution_count": 6,
     "metadata": {},
     "output_type": "execute_result"
    }
   ],
   "source": [
    "pipe = make_pipeline(CountVectorizer(lowercase=False), LinearSVC(random_state=42, max_iter=1500))\n",
    "peval.evaluate(pipe)"
   ]
  },
  {
   "cell_type": "markdown",
   "id": "27b8f9e6",
   "metadata": {},
   "source": [
    "Ne pas passer en lowercase le texte permet de gagner environ 1 point de f1 score."
   ]
  },
  {
   "cell_type": "code",
   "execution_count": 7,
   "id": "1e1b3f2e",
   "metadata": {},
   "outputs": [
    {
     "data": {
      "text/plain": [
       "0.6098206087166702"
      ]
     },
     "execution_count": 7,
     "metadata": {},
     "output_type": "execute_result"
    }
   ],
   "source": [
    "pipe = make_pipeline(CountVectorizer(stop_words=\"english\"), LinearSVC(random_state=42, max_iter=1500))\n",
    "peval.evaluate(pipe)"
   ]
  },
  {
   "cell_type": "markdown",
   "id": "3c797a77",
   "metadata": {},
   "source": [
    "On a la preuve qu'il ne faut surtout pas enlever les stop words car cela fait perdre 5 points de f1 score."
   ]
  },
  {
   "cell_type": "code",
   "execution_count": 8,
   "id": "d5fce591",
   "metadata": {},
   "outputs": [
    {
     "name": "stdout",
     "output_type": "stream",
     "text": [
      "!!! BEST !!!\n"
     ]
    },
    {
     "data": {
      "text/plain": [
       "0.7284038038419024"
      ]
     },
     "execution_count": 8,
     "metadata": {},
     "output_type": "execute_result"
    }
   ],
   "source": [
    "pipe = make_pipeline(CountVectorizer(ngram_range=(1, 2)), LinearSVC(random_state=42, max_iter=1500))\n",
    "peval.evaluate(pipe)"
   ]
  },
  {
   "cell_type": "code",
   "execution_count": 9,
   "id": "d4818dd7",
   "metadata": {},
   "outputs": [
    {
     "name": "stdout",
     "output_type": "stream",
     "text": [
      "!!! BEST !!!\n"
     ]
    },
    {
     "data": {
      "text/plain": [
       "0.7381868073768907"
      ]
     },
     "execution_count": 9,
     "metadata": {},
     "output_type": "execute_result"
    }
   ],
   "source": [
    "pipe = make_pipeline(CountVectorizer(lowercase=False, ngram_range=(1, 2)), LinearSVC(random_state=42, max_iter=1500))\n",
    "peval.evaluate(pipe)"
   ]
  },
  {
   "cell_type": "markdown",
   "id": "70ce33d9",
   "metadata": {},
   "source": [
    "Utiliser des unigrammes et des bigrammes permet d'augmenter nettement le f1 score de 8 points par rapport à la baseline."
   ]
  },
  {
   "cell_type": "code",
   "execution_count": null,
   "id": "9be8615c",
   "metadata": {},
   "outputs": [],
   "source": []
  }
 ],
 "metadata": {
  "kernelspec": {
   "display_name": "Python 3 (ipykernel)",
   "language": "python",
   "name": "python3"
  },
  "language_info": {
   "codemirror_mode": {
    "name": "ipython",
    "version": 3
   },
   "file_extension": ".py",
   "mimetype": "text/x-python",
   "name": "python",
   "nbconvert_exporter": "python",
   "pygments_lexer": "ipython3",
   "version": "3.8.10"
  }
 },
 "nbformat": 4,
 "nbformat_minor": 5
}
