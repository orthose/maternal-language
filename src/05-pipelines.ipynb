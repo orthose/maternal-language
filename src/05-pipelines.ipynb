{
 "cells": [
  {
   "cell_type": "markdown",
   "id": "fae43df7",
   "metadata": {},
   "source": [
    "# Pipelines\n",
    "Le but de ce notebook est de créer diverses pipelines allant de la préparation des données à l'entraînement du modèle et de les comparer afin de déterminer la stratégie permettant d'obtenir le meilleur score sur l'ensemble de validation."
   ]
  },
  {
   "cell_type": "code",
   "execution_count": 1,
   "id": "8f7c4035",
   "metadata": {},
   "outputs": [],
   "source": [
    "import pandas as pd\n",
    "from utils import load_data, train_valid_test_split, PipelineEvaluator, evaluate\n",
    "import estimators as est\n",
    "from sklearn.preprocessing import StandardScaler, MinMaxScaler, KBinsDiscretizer\n",
    "from sklearn.feature_extraction.text import CountVectorizer, TfidfVectorizer\n",
    "from gensim.models import Word2Vec\n",
    "from sklearn.model_selection import GridSearchCV\n",
    "from sklearn.svm import LinearSVC\n",
    "from sklearn.ensemble import RandomForestClassifier\n",
    "from sklearn.decomposition import TruncatedSVD\n",
    "from sklearn.pipeline import make_pipeline\n",
    "from sklearn.pipeline import make_union"
   ]
  },
  {
   "cell_type": "code",
   "execution_count": 2,
   "id": "768a5b8b",
   "metadata": {},
   "outputs": [],
   "source": [
    "# Chargement des données\n",
    "df = load_data(\"../data/train.txt\")\n",
    "\n",
    "# Découpage des données\n",
    "df_train, df_valid, df_test = train_valid_test_split(df, size=(600, 200, 100))\n",
    "\n",
    "X = df[\"text\"]\n",
    "X_train = df_train[\"text\"]\n",
    "y_train = df_train[\"language\"]\n",
    "X_valid = df_valid[\"text\"]\n",
    "y_valid = df_valid[\"language\"]\n",
    "X_test = df_test[\"text\"]\n",
    "y_test = df_test[\"language\"]\n",
    "\n",
    "# Pour grid search\n",
    "X_cv = pd.concat([X_train, X_valid])\n",
    "y_cv = pd.concat([y_train, y_valid])\n",
    "\n",
    "# Évaluation des pipelines\n",
    "peval = PipelineEvaluator(X_train, y_train, X_valid, y_valid)"
   ]
  },
  {
   "cell_type": "markdown",
   "id": "5b75c0eb",
   "metadata": {},
   "source": [
    "# Baseline"
   ]
  },
  {
   "cell_type": "code",
   "execution_count": 3,
   "id": "88842e0b",
   "metadata": {},
   "outputs": [
    {
     "name": "stdout",
     "output_type": "stream",
     "text": [
      "!!! BEST !!!\n"
     ]
    },
    {
     "data": {
      "text/plain": [
       "0.6654162399577045"
      ]
     },
     "execution_count": 3,
     "metadata": {},
     "output_type": "execute_result"
    }
   ],
   "source": [
    "pipe = make_pipeline(CountVectorizer(), LinearSVC(random_state=42, max_iter=1500))\n",
    "peval.evaluate(pipe)"
   ]
  },
  {
   "cell_type": "markdown",
   "id": "bdbe30b0",
   "metadata": {},
   "source": [
    "# Caractères\n",
    "La correction des caractères spéciaux ne change pratiquement pas le score."
   ]
  },
  {
   "cell_type": "code",
   "execution_count": 4,
   "id": "5bacaa8f",
   "metadata": {},
   "outputs": [
    {
     "name": "stdout",
     "output_type": "stream",
     "text": [
      "!!! BEST !!!\n"
     ]
    },
    {
     "data": {
      "text/plain": [
       "0.6665963286741187"
      ]
     },
     "execution_count": 4,
     "metadata": {},
     "output_type": "execute_result"
    }
   ],
   "source": [
    "pipe = make_pipeline(est.SpecialCharsCorrector(), CountVectorizer(), LinearSVC(random_state=42, max_iter=1500))\n",
    "peval.evaluate(pipe)"
   ]
  },
  {
   "cell_type": "markdown",
   "id": "1753f61f",
   "metadata": {},
   "source": [
    "# Nombres\n",
    "La tokenization des nombres n'a pratiquement aucun effet sur le score."
   ]
  },
  {
   "cell_type": "code",
   "execution_count": 5,
   "id": "5e5c738a",
   "metadata": {},
   "outputs": [
    {
     "name": "stdout",
     "output_type": "stream",
     "text": [
      "!!! BEST !!!\n"
     ]
    },
    {
     "data": {
      "text/plain": [
       "0.6666167551065664"
      ]
     },
     "execution_count": 5,
     "metadata": {},
     "output_type": "execute_result"
    }
   ],
   "source": [
    "pipe = make_pipeline(est.NumbersTokenizer(), CountVectorizer(), LinearSVC(random_state=42, max_iter=1500))\n",
    "peval.evaluate(pipe)"
   ]
  },
  {
   "cell_type": "markdown",
   "id": "e2b8975b",
   "metadata": {},
   "source": [
    "# CountVectorizer\n",
    "On cherche à optimiser les paramètres de CountVectorizer."
   ]
  },
  {
   "cell_type": "code",
   "execution_count": 6,
   "id": "e6de9be6",
   "metadata": {},
   "outputs": [
    {
     "name": "stdout",
     "output_type": "stream",
     "text": [
      "!!! BEST !!!\n"
     ]
    },
    {
     "data": {
      "text/plain": [
       "0.6750873709348387"
      ]
     },
     "execution_count": 6,
     "metadata": {},
     "output_type": "execute_result"
    }
   ],
   "source": [
    "pipe = make_pipeline(CountVectorizer(lowercase=False), LinearSVC(random_state=42, max_iter=1500))\n",
    "peval.evaluate(pipe)"
   ]
  },
  {
   "cell_type": "markdown",
   "id": "27b8f9e6",
   "metadata": {},
   "source": [
    "Ne pas passer en lowercase le texte permet de gagner environ 1 point de f1 score."
   ]
  },
  {
   "cell_type": "code",
   "execution_count": 7,
   "id": "1e1b3f2e",
   "metadata": {},
   "outputs": [
    {
     "data": {
      "text/plain": [
       "0.6098206087166702"
      ]
     },
     "execution_count": 7,
     "metadata": {},
     "output_type": "execute_result"
    }
   ],
   "source": [
    "pipe = make_pipeline(CountVectorizer(stop_words=\"english\"), LinearSVC(random_state=42, max_iter=1500))\n",
    "peval.evaluate(pipe)"
   ]
  },
  {
   "cell_type": "markdown",
   "id": "3c797a77",
   "metadata": {},
   "source": [
    "On a la preuve qu'il ne faut surtout pas enlever les stop words car cela fait perdre 5 points de f1 score."
   ]
  },
  {
   "cell_type": "code",
   "execution_count": 8,
   "id": "d5fce591",
   "metadata": {},
   "outputs": [
    {
     "name": "stdout",
     "output_type": "stream",
     "text": [
      "!!! BEST !!!\n"
     ]
    },
    {
     "data": {
      "text/plain": [
       "0.7284038038419024"
      ]
     },
     "execution_count": 8,
     "metadata": {},
     "output_type": "execute_result"
    }
   ],
   "source": [
    "pipe = make_pipeline(CountVectorizer(ngram_range=(1, 2)), LinearSVC(random_state=42, max_iter=1500))\n",
    "peval.evaluate(pipe)"
   ]
  },
  {
   "cell_type": "code",
   "execution_count": 9,
   "id": "d4818dd7",
   "metadata": {},
   "outputs": [
    {
     "name": "stdout",
     "output_type": "stream",
     "text": [
      "!!! BEST !!!\n"
     ]
    },
    {
     "data": {
      "text/plain": [
       "0.7381868073768907"
      ]
     },
     "execution_count": 9,
     "metadata": {},
     "output_type": "execute_result"
    }
   ],
   "source": [
    "pipe = make_pipeline(CountVectorizer(lowercase=False, ngram_range=(1, 2)), LinearSVC(random_state=42, max_iter=1500))\n",
    "peval.evaluate(pipe)"
   ]
  },
  {
   "cell_type": "markdown",
   "id": "70ce33d9",
   "metadata": {},
   "source": [
    "Utiliser des unigrammes et des bigrammes permet d'augmenter nettement le f1 score de 8 points par rapport à la baseline."
   ]
  },
  {
   "cell_type": "markdown",
   "id": "3db7d819",
   "metadata": {},
   "source": [
    "# TF-IDF\n",
    "La méthode de vectorisation avec TF-IDF est plus performante que CountVectorizer."
   ]
  },
  {
   "cell_type": "code",
   "execution_count": 10,
   "id": "4de28b41",
   "metadata": {},
   "outputs": [
    {
     "name": "stdout",
     "output_type": "stream",
     "text": [
      "!!! BEST !!!\n"
     ]
    },
    {
     "data": {
      "text/plain": [
       "0.7477890727462865"
      ]
     },
     "execution_count": 10,
     "metadata": {},
     "output_type": "execute_result"
    }
   ],
   "source": [
    "pipe = make_pipeline(TfidfVectorizer(), LinearSVC(random_state=42, max_iter=1500))\n",
    "peval.evaluate(pipe)"
   ]
  },
  {
   "cell_type": "markdown",
   "id": "40055146",
   "metadata": {},
   "source": [
    "L'utilisation de TF-IDF semble améliorer la performance par rapport à CountVectorizer pour le modèle LinearSVC."
   ]
  },
  {
   "cell_type": "code",
   "execution_count": 11,
   "id": "e4c1a8a5",
   "metadata": {},
   "outputs": [
    {
     "name": "stdout",
     "output_type": "stream",
     "text": [
      "!!! BEST !!!\n"
     ]
    },
    {
     "data": {
      "text/plain": [
       "0.758081270859424"
      ]
     },
     "execution_count": 11,
     "metadata": {},
     "output_type": "execute_result"
    }
   ],
   "source": [
    "pipe = make_pipeline(TfidfVectorizer(lowercase=False), LinearSVC(random_state=42, max_iter=1500))\n",
    "peval.evaluate(pipe)"
   ]
  },
  {
   "cell_type": "markdown",
   "id": "84af3eea",
   "metadata": {},
   "source": [
    "De la même manière que pour CountVectorizer passer en minuscule fait perdre de l'information."
   ]
  },
  {
   "cell_type": "code",
   "execution_count": 12,
   "id": "7b01d7d3",
   "metadata": {},
   "outputs": [
    {
     "name": "stdout",
     "output_type": "stream",
     "text": [
      "!!! BEST !!!\n"
     ]
    },
    {
     "data": {
      "text/plain": [
       "0.7803852448311482"
      ]
     },
     "execution_count": 12,
     "metadata": {},
     "output_type": "execute_result"
    }
   ],
   "source": [
    "pipe = make_pipeline(TfidfVectorizer(ngram_range=(1, 2)), LinearSVC(random_state=42, max_iter=1500))\n",
    "peval.evaluate(pipe)"
   ]
  },
  {
   "cell_type": "code",
   "execution_count": 13,
   "id": "7f727c91",
   "metadata": {},
   "outputs": [
    {
     "name": "stdout",
     "output_type": "stream",
     "text": [
      "!!! BEST !!!\n"
     ]
    },
    {
     "data": {
      "text/plain": [
       "0.7906081162181331"
      ]
     },
     "execution_count": 13,
     "metadata": {},
     "output_type": "execute_result"
    }
   ],
   "source": [
    "pipe = make_pipeline(TfidfVectorizer(lowercase=False, ngram_range=(1, 2)), LinearSVC(random_state=42, max_iter=1500))\n",
    "peval.evaluate(pipe)"
   ]
  },
  {
   "cell_type": "markdown",
   "id": "40177b75",
   "metadata": {},
   "source": [
    "Encore une fois, utiliser des unigrammes et des bigrammes permet d'augmenter nettement le f1 score de 12 points par rapport à la baseline."
   ]
  },
  {
   "cell_type": "markdown",
   "id": "75fc8852",
   "metadata": {},
   "source": [
    "## Tokenizer\n",
    "Le tokenizer de NLTK qui prend en compte la ponctuation permet de gagner 7 centièmes de score autrement dit rien."
   ]
  },
  {
   "cell_type": "code",
   "execution_count": 14,
   "id": "d5292c97",
   "metadata": {},
   "outputs": [
    {
     "name": "stdout",
     "output_type": "stream",
     "text": [
      "!!! BEST !!!\n"
     ]
    },
    {
     "data": {
      "text/plain": [
       "0.7946265397329081"
      ]
     },
     "execution_count": 14,
     "metadata": {},
     "output_type": "execute_result"
    }
   ],
   "source": [
    "pipe = make_pipeline(\n",
    "    TfidfVectorizer(lowercase=False, ngram_range=(1, 2), tokenizer=est.gensim_tokenize, token_pattern=None), \n",
    "    LinearSVC(random_state=42, max_iter=1500))\n",
    "peval.evaluate(pipe)"
   ]
  },
  {
   "cell_type": "code",
   "execution_count": 15,
   "id": "bf1d5552",
   "metadata": {},
   "outputs": [
    {
     "name": "stdout",
     "output_type": "stream",
     "text": [
      "!!! BEST !!!\n"
     ]
    },
    {
     "data": {
      "text/plain": [
       "0.7971896761336755"
      ]
     },
     "execution_count": 15,
     "metadata": {},
     "output_type": "execute_result"
    }
   ],
   "source": [
    "pipe = make_pipeline(\n",
    "    TfidfVectorizer(lowercase=False, ngram_range=(1, 2), tokenizer=est.nltk_tokenize, token_pattern=None), \n",
    "    LinearSVC(random_state=42, max_iter=1500))\n",
    "peval.evaluate(pipe)"
   ]
  },
  {
   "cell_type": "markdown",
   "id": "d4a68ee2",
   "metadata": {},
   "source": [
    "# Word2Vec\n",
    "La vectorisation avec Word2Vec ne fonctionne pas du tout probablement car on perd trop d'information comme on fait une moyenne de vecteurs de mots pour chaque document."
   ]
  },
  {
   "cell_type": "code",
   "execution_count": 16,
   "id": "cee3531d",
   "metadata": {},
   "outputs": [
    {
     "data": {
      "text/plain": [
       "0.25891694137288085"
      ]
     },
     "execution_count": 16,
     "metadata": {},
     "output_type": "execute_result"
    }
   ],
   "source": [
    "# Méthode CBow sg=0\n",
    "pipe = make_pipeline(\n",
    "    est.SimpleTokenizer(), \n",
    "    est.Word2VecEstimator(min_count=1, vector_size=300, window=5, sg=0, workers=4), \n",
    "    LinearSVC(random_state=42, max_iter=1500))\n",
    "peval.evaluate(pipe)"
   ]
  },
  {
   "cell_type": "code",
   "execution_count": 17,
   "id": "82bf57bc",
   "metadata": {},
   "outputs": [
    {
     "data": {
      "text/plain": [
       "0.27746111559769243"
      ]
     },
     "execution_count": 17,
     "metadata": {},
     "output_type": "execute_result"
    }
   ],
   "source": [
    "pipe = make_pipeline(\n",
    "    est.SimpleTokenizer(), \n",
    "    est.Word2VecEstimator(min_count=1, vector_size=500, window=5, sg=0, workers=4), \n",
    "    LinearSVC(random_state=42, max_iter=1500))\n",
    "peval.evaluate(pipe)"
   ]
  },
  {
   "cell_type": "code",
   "execution_count": 18,
   "id": "c97c3d4e",
   "metadata": {},
   "outputs": [
    {
     "data": {
      "text/plain": [
       "0.2608315462402077"
      ]
     },
     "execution_count": 18,
     "metadata": {},
     "output_type": "execute_result"
    }
   ],
   "source": [
    "pipe = make_pipeline(\n",
    "    est.SimpleTokenizer(), \n",
    "    est.Word2VecEstimator(min_count=10, vector_size=300, window=5, sg=0, workers=4), \n",
    "    LinearSVC(random_state=42, max_iter=1500))\n",
    "peval.evaluate(pipe)"
   ]
  },
  {
   "cell_type": "code",
   "execution_count": 19,
   "id": "cbd0f434",
   "metadata": {},
   "outputs": [
    {
     "data": {
      "text/plain": [
       "0.25891694137288085"
      ]
     },
     "execution_count": 19,
     "metadata": {},
     "output_type": "execute_result"
    }
   ],
   "source": [
    "# Méthode SkipGram sg=1\n",
    "pipe = make_pipeline(\n",
    "    est.SimpleTokenizer(), \n",
    "    est.Word2VecEstimator(min_count=1, vector_size=300, window=5, sg=1, workers=4), \n",
    "    LinearSVC(random_state=42, max_iter=1500))\n",
    "peval.evaluate(pipe)"
   ]
  },
  {
   "cell_type": "code",
   "execution_count": 20,
   "id": "9416cc8b",
   "metadata": {},
   "outputs": [
    {
     "data": {
      "text/plain": [
       "0.27746111559769243"
      ]
     },
     "execution_count": 20,
     "metadata": {},
     "output_type": "execute_result"
    }
   ],
   "source": [
    "pipe = make_pipeline(\n",
    "    est.SimpleTokenizer(), \n",
    "    est.Word2VecEstimator(min_count=1, vector_size=500, window=5, sg=1, workers=4), \n",
    "    LinearSVC(random_state=42, max_iter=1500))\n",
    "peval.evaluate(pipe)"
   ]
  },
  {
   "cell_type": "markdown",
   "id": "f4444707",
   "metadata": {},
   "source": [
    "# Features\n",
    "On suppose qu'ajouter des features permet d'aider le modèle."
   ]
  },
  {
   "cell_type": "markdown",
   "id": "954d0c8b",
   "metadata": {},
   "source": [
    "## CountWords\n",
    "On compte le nombre de mots par document."
   ]
  },
  {
   "cell_type": "code",
   "execution_count": 21,
   "id": "d2171188",
   "metadata": {},
   "outputs": [
    {
     "name": "stderr",
     "output_type": "stream",
     "text": [
      "/home/maxime/Documents/maternal-language/venv/lib/python3.8/site-packages/sklearn/svm/_base.py:1244: ConvergenceWarning: Liblinear failed to converge, increase the number of iterations.\n",
      "  warnings.warn(\n"
     ]
    },
    {
     "data": {
      "text/plain": [
       "0.02012967604952323"
      ]
     },
     "execution_count": 21,
     "metadata": {},
     "output_type": "execute_result"
    }
   ],
   "source": [
    "pipe = make_pipeline(est.WordsCounter(), LinearSVC(random_state=42, max_iter=1500))\n",
    "peval.evaluate(pipe)"
   ]
  },
  {
   "cell_type": "code",
   "execution_count": 22,
   "id": "ac94e4ee",
   "metadata": {},
   "outputs": [
    {
     "data": {
      "text/plain": [
       "0.05251379256905217"
      ]
     },
     "execution_count": 22,
     "metadata": {},
     "output_type": "execute_result"
    }
   ],
   "source": [
    "pipe = make_pipeline(est.WordsCounter(), StandardScaler(), LinearSVC(random_state=42, max_iter=1500))\n",
    "peval.evaluate(pipe)"
   ]
  },
  {
   "cell_type": "code",
   "execution_count": 23,
   "id": "9cddac7e",
   "metadata": {},
   "outputs": [
    {
     "data": {
      "text/plain": [
       "0.051687346288060425"
      ]
     },
     "execution_count": 23,
     "metadata": {},
     "output_type": "execute_result"
    }
   ],
   "source": [
    "pipe = make_pipeline(est.WordsCounter(), MinMaxScaler(), LinearSVC(random_state=42, max_iter=1500))\n",
    "peval.evaluate(pipe)"
   ]
  },
  {
   "cell_type": "code",
   "execution_count": 24,
   "id": "99e6e456",
   "metadata": {},
   "outputs": [
    {
     "data": {
      "text/plain": [
       "0.07131847814371083"
      ]
     },
     "execution_count": 24,
     "metadata": {},
     "output_type": "execute_result"
    }
   ],
   "source": [
    "pipe = make_pipeline(est.WordsCounter(), \n",
    "                     KBinsDiscretizer(n_bins=10, encode='onehot', strategy='uniform'), \n",
    "                     LinearSVC(random_state=42, max_iter=1500))\n",
    "peval.evaluate(pipe)"
   ]
  },
  {
   "cell_type": "code",
   "execution_count": 25,
   "id": "e7b7ff09",
   "metadata": {},
   "outputs": [
    {
     "data": {
      "text/plain": [
       "0.08588585395748823"
      ]
     },
     "execution_count": 25,
     "metadata": {},
     "output_type": "execute_result"
    }
   ],
   "source": [
    "pipe = make_pipeline(est.WordsCounter(), \n",
    "                     KBinsDiscretizer(n_bins=10, encode='onehot', strategy='quantile'), \n",
    "                     LinearSVC(random_state=42, max_iter=1500))\n",
    "peval.evaluate(pipe)"
   ]
  },
  {
   "cell_type": "code",
   "execution_count": 26,
   "id": "6251d6aa",
   "metadata": {},
   "outputs": [
    {
     "name": "stdout",
     "output_type": "stream",
     "text": [
      "!!! BEST !!!\n"
     ]
    },
    {
     "data": {
      "text/plain": [
       "0.8047768545298919"
      ]
     },
     "execution_count": 26,
     "metadata": {},
     "output_type": "execute_result"
    }
   ],
   "source": [
    "pipe = make_pipeline(\n",
    "    make_union(\n",
    "        TfidfVectorizer(lowercase=False, ngram_range=(1, 2), tokenizer=est.nltk_tokenize, token_pattern=None), \n",
    "        make_pipeline(est.WordsCounter(), KBinsDiscretizer(n_bins=10, encode='onehot', strategy='uniform'))),\n",
    "    LinearSVC(random_state=42, max_iter=1500))\n",
    "peval.evaluate(pipe)"
   ]
  },
  {
   "cell_type": "markdown",
   "id": "29590670",
   "metadata": {},
   "source": [
    "La feature du nombre de mots par document n'est pas significative. La discrétisation aide un peu le modèle à en tirer partie encore faut-il un nombre de bins suffisant. Utilisée en conjonction avec TfidfVectorizer cette feature n'a aucun effet (elle est noyée dans toutes les features)."
   ]
  },
  {
   "cell_type": "markdown",
   "id": "6aa095d8",
   "metadata": {},
   "source": [
    "## MeanCharsSentence\n",
    "On compte le nombre moyen de caractères par phrase."
   ]
  },
  {
   "cell_type": "code",
   "execution_count": 27,
   "id": "d9f278ef",
   "metadata": {},
   "outputs": [
    {
     "data": {
      "text/plain": [
       "0.11755210083174429"
      ]
     },
     "execution_count": 27,
     "metadata": {},
     "output_type": "execute_result"
    }
   ],
   "source": [
    "pipe = make_pipeline(\n",
    "    est.MeanCharsSentence(), \n",
    "    KBinsDiscretizer(n_bins=10, encode='onehot', strategy='quantile'), \n",
    "    LinearSVC(random_state=42, max_iter=1500))\n",
    "peval.evaluate(pipe)"
   ]
  },
  {
   "cell_type": "markdown",
   "id": "9c50933e",
   "metadata": {},
   "source": [
    "## MeanWordsSentence\n",
    "On compte le nombre moyen de mots par phrase."
   ]
  },
  {
   "cell_type": "code",
   "execution_count": 28,
   "id": "02fb6c3c",
   "metadata": {},
   "outputs": [
    {
     "data": {
      "text/plain": [
       "0.14804545554057816"
      ]
     },
     "execution_count": 28,
     "metadata": {},
     "output_type": "execute_result"
    }
   ],
   "source": [
    "pipe = make_pipeline(\n",
    "    est.MeanWordsSentence(), \n",
    "    KBinsDiscretizer(n_bins=15, encode='onehot', strategy='quantile'), \n",
    "    LinearSVC(random_state=42, max_iter=1500))\n",
    "peval.evaluate(pipe)"
   ]
  },
  {
   "cell_type": "markdown",
   "id": "4c9e1c0e",
   "metadata": {},
   "source": [
    "# Richesse du vocabulaire\n",
    "On compte le nombre de mots différents par document."
   ]
  },
  {
   "cell_type": "code",
   "execution_count": 29,
   "id": "5e835a8a",
   "metadata": {},
   "outputs": [
    {
     "data": {
      "text/plain": [
       "0.11184299999549782"
      ]
     },
     "execution_count": 29,
     "metadata": {},
     "output_type": "execute_result"
    }
   ],
   "source": [
    "pipe = make_pipeline(\n",
    "    est.LexicalRichness(), \n",
    "    KBinsDiscretizer(n_bins=25, encode='onehot', strategy='quantile'), \n",
    "    LinearSVC(random_state=42, max_iter=1500))\n",
    "peval.evaluate(pipe)"
   ]
  },
  {
   "cell_type": "markdown",
   "id": "353239ab",
   "metadata": {},
   "source": [
    "# Nombre de consonnes doublées"
   ]
  },
  {
   "cell_type": "code",
   "execution_count": 30,
   "id": "67750b6e",
   "metadata": {},
   "outputs": [
    {
     "data": {
      "text/plain": [
       "0.08554369140363884"
      ]
     },
     "execution_count": 30,
     "metadata": {},
     "output_type": "execute_result"
    }
   ],
   "source": [
    "pipe = make_pipeline(\n",
    "    est.DoubleConsonantCounter(), \n",
    "    KBinsDiscretizer(n_bins=15, encode='onehot', strategy='quantile'), \n",
    "    LinearSVC(random_state=42, max_iter=1500))\n",
    "peval.evaluate(pipe)"
   ]
  },
  {
   "cell_type": "markdown",
   "id": "34a1f94d",
   "metadata": {},
   "source": [
    "# Nombre de contractions"
   ]
  },
  {
   "cell_type": "code",
   "execution_count": 31,
   "id": "176ced25",
   "metadata": {},
   "outputs": [
    {
     "data": {
      "text/plain": [
       "0.05738261881697837"
      ]
     },
     "execution_count": 31,
     "metadata": {},
     "output_type": "execute_result"
    }
   ],
   "source": [
    "pipe = make_pipeline(\n",
    "    est.ContractionsCounter(),\n",
    "    KBinsDiscretizer(n_bins=15, encode='onehot', strategy='uniform'), \n",
    "    LinearSVC(random_state=42, max_iter=1500))\n",
    "peval.evaluate(pipe)"
   ]
  },
  {
   "cell_type": "markdown",
   "id": "7afedf10",
   "metadata": {},
   "source": [
    "# Concaténation des features\n",
    "Le fait de combiner les features permet bien d'avoir plus d'information mais ces features ne sont pas suffisamment siginificatives. Elles font même baisser le score du modèle. Peut-être est-il temps d'optimiser le modèle ?"
   ]
  },
  {
   "cell_type": "code",
   "execution_count": 32,
   "id": "95a8795e",
   "metadata": {},
   "outputs": [
    {
     "data": {
      "text/plain": [
       "0.18336790524145197"
      ]
     },
     "execution_count": 32,
     "metadata": {},
     "output_type": "execute_result"
    }
   ],
   "source": [
    "# Features seules\n",
    "pipe = make_pipeline(\n",
    "    make_union(\n",
    "        make_pipeline(est.WordsCounter(), KBinsDiscretizer(n_bins=10, encode='onehot', strategy='uniform')),\n",
    "        make_pipeline(est.MeanWordsSentence(), KBinsDiscretizer(n_bins=15, encode='onehot', strategy='quantile')),\n",
    "        make_pipeline(est.DoubleConsonantCounter(), KBinsDiscretizer(n_bins=15, encode='onehot', strategy='quantile')),\n",
    "        make_pipeline(est.ContractionsCounter(), KBinsDiscretizer(n_bins=15, encode='onehot', strategy='uniform'))),\n",
    "    LinearSVC(random_state=42, max_iter=1500))\n",
    "peval.evaluate(pipe)"
   ]
  },
  {
   "cell_type": "code",
   "execution_count": 33,
   "id": "e058713c",
   "metadata": {},
   "outputs": [
    {
     "data": {
      "text/plain": [
       "0.7926774632982265"
      ]
     },
     "execution_count": 33,
     "metadata": {},
     "output_type": "execute_result"
    }
   ],
   "source": [
    "# On ajoute la vectorisation\n",
    "pipe = make_pipeline(\n",
    "    make_union(\n",
    "        TfidfVectorizer(lowercase=False, ngram_range=(1, 2), tokenizer=est.nltk_tokenize, token_pattern=None),\n",
    "        make_pipeline(est.WordsCounter(), KBinsDiscretizer(n_bins=10, encode='onehot', strategy='uniform')),\n",
    "        make_pipeline(est.MeanWordsSentence(), KBinsDiscretizer(n_bins=15, encode='onehot', strategy='quantile')),\n",
    "        make_pipeline(est.DoubleConsonantCounter(), KBinsDiscretizer(n_bins=15, encode='onehot', strategy='quantile')),\n",
    "        make_pipeline(est.ContractionsCounter(), KBinsDiscretizer(n_bins=15, encode='onehot', strategy='uniform'))),\n",
    "    LinearSVC(random_state=42, max_iter=1500))\n",
    "peval.evaluate(pipe)"
   ]
  },
  {
   "cell_type": "markdown",
   "id": "f817a3c1",
   "metadata": {},
   "source": [
    "# Modèles\n",
    "## LinearSVC\n",
    "On va utiliser une RandomGridSearch afin d'optimiser les hyperparamètres du modèle LinearSVC. Malheureusment c'est insuffisant pour gagner en score."
   ]
  },
  {
   "cell_type": "code",
   "execution_count": 34,
   "id": "4c4cfb5a",
   "metadata": {},
   "outputs": [
    {
     "name": "stdout",
     "output_type": "stream",
     "text": [
      "\n"
     ]
    }
   ],
   "source": [
    "\"\"\"\n",
    "%%time\n",
    "from sklearn.utils._testing import ignore_warnings\n",
    "from sklearn.exceptions import FitFailedWarning, ConvergenceWarning\n",
    "\n",
    "param_grid = [\n",
    "    {'penalty': ['l1', 'l2']},\n",
    "    {'loss': ['hinge', 'squared_hinge']},\n",
    "    {'dual': [True, False]},\n",
    "    {'multi_class':['ovr', 'crammer_singer']},\n",
    "    {'max_iter': [500, 1500, 3000, 5000]},\n",
    "    {'C': [1., 5., 10., 50., 100.]},\n",
    "    {'tol': [1e-4, 1e-3, 1e-2, 1e-1]}\n",
    "]\n",
    "\n",
    "# Supprimer les erreurs de combinaisons illégales\n",
    "with ignore_warnings(category=[ConvergenceWarning, FitFailedWarning]): \n",
    "    pipe = make_pipeline(\n",
    "        make_union(\n",
    "            TfidfVectorizer(lowercase=False, ngram_range=(1, 2)),\n",
    "            make_pipeline(est.WordsCounter(), KBinsDiscretizer(n_bins=10, encode='onehot', strategy='uniform')),\n",
    "            make_pipeline(est.MeanWordsSentence(), KBinsDiscretizer(n_bins=15, encode='onehot', strategy='quantile')),\n",
    "            make_pipeline(est.DoubleConsonantCounter(), KBinsDiscretizer(n_bins=15, encode='onehot', strategy='quantile')),\n",
    "            make_pipeline(est.ContractionsCounter(), KBinsDiscretizer(n_bins=15, encode='onehot', strategy='uniform'))),\n",
    "        GridSearchCV(LinearSVC(), cv=5, scoring='f1_macro', n_jobs=-2, verbose=1, param_grid=param_grid))\n",
    "\n",
    "pipe.fit(X_cv, y_cv)\n",
    "print(pipe.named_steps[\"gridsearchcv\"].best_params_)\n",
    "\"\"\"\n",
    "print()"
   ]
  },
  {
   "cell_type": "markdown",
   "id": "d314d52b",
   "metadata": {},
   "source": [
    "## Compression des features\n",
    "On essaye de réduire le nombre de features avec TruncatedSVD. Malheureusement, le modèle a du mal à performer avec les features restantes. Le temps de réduction de la dimension est assez élevé si on choisi un nombre de components élevé.\n",
    "\n",
    "|n_components|score|\n",
    "|-|-|\n",
    "|10|0.11|\n",
    "|100|0.48|\n",
    "|1000|0.72|"
   ]
  },
  {
   "cell_type": "code",
   "execution_count": 35,
   "id": "31c9d315",
   "metadata": {},
   "outputs": [
    {
     "data": {
      "text/plain": [
       "0.11252488097405569"
      ]
     },
     "execution_count": 35,
     "metadata": {},
     "output_type": "execute_result"
    }
   ],
   "source": [
    "pipe = make_pipeline(\n",
    "    make_union(\n",
    "        TfidfVectorizer(lowercase=False, ngram_range=(1, 2), tokenizer=est.nltk_tokenize, token_pattern=None),\n",
    "        make_pipeline(est.WordsCounter(), KBinsDiscretizer(n_bins=10, encode='onehot', strategy='uniform')),\n",
    "        make_pipeline(est.MeanWordsSentence(), KBinsDiscretizer(n_bins=15, encode='onehot', strategy='quantile')),\n",
    "        make_pipeline(est.DoubleConsonantCounter(), KBinsDiscretizer(n_bins=15, encode='onehot', strategy='quantile')),\n",
    "        make_pipeline(est.ContractionsCounter(), KBinsDiscretizer(n_bins=15, encode='onehot', strategy='uniform'))),\n",
    "    TruncatedSVD(n_components=10),\n",
    "    LinearSVC(penalty='l2', loss='squared_hinge', max_iter=500))\n",
    "peval.evaluate(pipe)"
   ]
  },
  {
   "cell_type": "markdown",
   "id": "51f18422",
   "metadata": {},
   "source": [
    "Jusque là on a uniquement utilisé le LinearSVC. On va maintenant essayer d'autres modèles.\n",
    "\n",
    "## RandomForestClassifier"
   ]
  },
  {
   "cell_type": "code",
   "execution_count": 36,
   "id": "589a11f3",
   "metadata": {},
   "outputs": [
    {
     "data": {
      "text/plain": [
       "0.3687031829011474"
      ]
     },
     "execution_count": 36,
     "metadata": {},
     "output_type": "execute_result"
    }
   ],
   "source": [
    "pipe = make_pipeline(\n",
    "    make_union(\n",
    "        TfidfVectorizer(lowercase=False, ngram_range=(1, 2), tokenizer=est.nltk_tokenize, token_pattern=None),\n",
    "        make_pipeline(est.WordsCounter(), KBinsDiscretizer(n_bins=10, encode='onehot', strategy='uniform')),\n",
    "        make_pipeline(est.MeanWordsSentence(), KBinsDiscretizer(n_bins=15, encode='onehot', strategy='quantile')),\n",
    "        make_pipeline(est.DoubleConsonantCounter(), KBinsDiscretizer(n_bins=15, encode='onehot', strategy='quantile')),\n",
    "        make_pipeline(est.ContractionsCounter(), KBinsDiscretizer(n_bins=15, encode='onehot', strategy='uniform'))),\n",
    "    RandomForestClassifier(n_estimators=100, max_features='log2', n_jobs=-2))\n",
    "peval.evaluate(pipe)"
   ]
  },
  {
   "cell_type": "code",
   "execution_count": 37,
   "id": "7b5d9b53",
   "metadata": {},
   "outputs": [
    {
     "data": {
      "text/plain": [
       "1.0"
      ]
     },
     "execution_count": 37,
     "metadata": {},
     "output_type": "execute_result"
    }
   ],
   "source": [
    "pipe.score(X_train, y_train)"
   ]
  },
  {
   "cell_type": "markdown",
   "id": "5f94ec9e",
   "metadata": {},
   "source": [
    "On est en situation d'overfitting avec le RandomForestClassifier. Nous avons essayé différents hyperparamètres mais le score monte difficilement. Ce modèle ne semble pas adapté au dataset.\n",
    "\n",
    "|hyperparamètres|score|\n",
    "|-|-|\n",
    "|n_estimators=500|0.57|\n",
    "|n_estimators=100, max_depth=1|0.27|\n",
    "|max_depth=2|0.35|\n",
    "|max_depth=4|0.41|\n",
    "|max_depth=6|0.42|\n",
    "|max_depth=10|0.47|\n",
    "|max_depth=None|0.46|\n",
    "|criterion='entropy'|0.43|\n",
    "|criterion='log_loss'|0.40|\n",
    "|min_samples_split=5|0.487|\n",
    "|min_samples_split=10|0.49|\n",
    "|min_samples_split=25|0.51|\n",
    "|min_samples_leaf=10|0.51|\n",
    "|max_features='log2'|0.36|"
   ]
  },
  {
   "cell_type": "markdown",
   "id": "4646adb6",
   "metadata": {},
   "source": [
    "## SVC"
   ]
  },
  {
   "cell_type": "code",
   "execution_count": 38,
   "id": "dba3d4b4",
   "metadata": {},
   "outputs": [
    {
     "data": {
      "text/plain": [
       "0.2812122106516718"
      ]
     },
     "execution_count": 38,
     "metadata": {},
     "output_type": "execute_result"
    }
   ],
   "source": [
    "from sklearn.svm import SVC\n",
    "pipe = make_pipeline(\n",
    "    make_union(\n",
    "        TfidfVectorizer(lowercase=False, ngram_range=(1, 2), tokenizer=est.nltk_tokenize, token_pattern=None),\n",
    "        make_pipeline(est.WordsCounter(), KBinsDiscretizer(n_bins=10, encode='onehot', strategy='uniform')),\n",
    "        make_pipeline(est.MeanWordsSentence(), KBinsDiscretizer(n_bins=15, encode='onehot', strategy='quantile')),\n",
    "        make_pipeline(est.DoubleConsonantCounter(), KBinsDiscretizer(n_bins=15, encode='onehot', strategy='quantile')),\n",
    "        make_pipeline(est.ContractionsCounter(), KBinsDiscretizer(n_bins=15, encode='onehot', strategy='uniform'))),\n",
    "    SVC())\n",
    "peval.evaluate(pipe)"
   ]
  },
  {
   "cell_type": "markdown",
   "id": "4113916c",
   "metadata": {},
   "source": [
    "## LogisticRegression"
   ]
  },
  {
   "cell_type": "code",
   "execution_count": 39,
   "id": "cc2ab1eb",
   "metadata": {},
   "outputs": [
    {
     "name": "stderr",
     "output_type": "stream",
     "text": [
      "/home/maxime/Documents/maternal-language/venv/lib/python3.8/site-packages/sklearn/linear_model/_logistic.py:458: ConvergenceWarning: lbfgs failed to converge (status=1):\n",
      "STOP: TOTAL NO. of ITERATIONS REACHED LIMIT.\n",
      "\n",
      "Increase the number of iterations (max_iter) or scale the data as shown in:\n",
      "    https://scikit-learn.org/stable/modules/preprocessing.html\n",
      "Please also refer to the documentation for alternative solver options:\n",
      "    https://scikit-learn.org/stable/modules/linear_model.html#logistic-regression\n",
      "  n_iter_i = _check_optimize_result(\n"
     ]
    },
    {
     "data": {
      "text/plain": [
       "0.616538317001623"
      ]
     },
     "execution_count": 39,
     "metadata": {},
     "output_type": "execute_result"
    }
   ],
   "source": [
    "from sklearn.linear_model import LogisticRegression\n",
    "pipe = make_pipeline(\n",
    "    make_union(\n",
    "        TfidfVectorizer(lowercase=False, ngram_range=(1, 2), tokenizer=est.nltk_tokenize, token_pattern=None),\n",
    "        make_pipeline(est.WordsCounter(), KBinsDiscretizer(n_bins=10, encode='onehot', strategy='uniform')),\n",
    "        make_pipeline(est.MeanWordsSentence(), KBinsDiscretizer(n_bins=15, encode='onehot', strategy='quantile')),\n",
    "        make_pipeline(est.DoubleConsonantCounter(), KBinsDiscretizer(n_bins=15, encode='onehot', strategy='quantile')),\n",
    "        make_pipeline(est.ContractionsCounter(), KBinsDiscretizer(n_bins=15, encode='onehot', strategy='uniform'))),\n",
    "    LogisticRegression())\n",
    "peval.evaluate(pipe)"
   ]
  },
  {
   "cell_type": "markdown",
   "id": "97e9761a",
   "metadata": {},
   "source": [
    "## SGDClassifier"
   ]
  },
  {
   "cell_type": "code",
   "execution_count": 40,
   "id": "e678798f",
   "metadata": {},
   "outputs": [
    {
     "data": {
      "text/plain": [
       "0.7569064120383594"
      ]
     },
     "execution_count": 40,
     "metadata": {},
     "output_type": "execute_result"
    }
   ],
   "source": [
    "from sklearn.linear_model import SGDClassifier\n",
    "pipe = make_pipeline(\n",
    "    make_union(\n",
    "        TfidfVectorizer(lowercase=False, ngram_range=(1, 2), tokenizer=est.nltk_tokenize, token_pattern=None),\n",
    "        make_pipeline(est.WordsCounter(), KBinsDiscretizer(n_bins=10, encode='onehot', strategy='uniform')),\n",
    "        make_pipeline(est.MeanWordsSentence(), KBinsDiscretizer(n_bins=15, encode='onehot', strategy='quantile')),\n",
    "        make_pipeline(est.DoubleConsonantCounter(), KBinsDiscretizer(n_bins=15, encode='onehot', strategy='quantile')),\n",
    "        make_pipeline(est.ContractionsCounter(), KBinsDiscretizer(n_bins=15, encode='onehot', strategy='uniform'))),\n",
    "    SGDClassifier())\n",
    "peval.evaluate(pipe)"
   ]
  },
  {
   "cell_type": "markdown",
   "id": "d214305e",
   "metadata": {},
   "source": [
    "## KNeighborsClassifier"
   ]
  },
  {
   "cell_type": "code",
   "execution_count": 41,
   "id": "d42e8062",
   "metadata": {},
   "outputs": [
    {
     "data": {
      "text/plain": [
       "0.1739270722440685"
      ]
     },
     "execution_count": 41,
     "metadata": {},
     "output_type": "execute_result"
    }
   ],
   "source": [
    "from sklearn.neighbors import KNeighborsClassifier\n",
    "pipe = make_pipeline(\n",
    "    make_union(\n",
    "        TfidfVectorizer(lowercase=False, ngram_range=(1, 2), tokenizer=est.nltk_tokenize, token_pattern=None),\n",
    "        make_pipeline(est.WordsCounter(), KBinsDiscretizer(n_bins=10, encode='onehot', strategy='uniform')),\n",
    "        make_pipeline(est.MeanWordsSentence(), KBinsDiscretizer(n_bins=15, encode='onehot', strategy='quantile')),\n",
    "        make_pipeline(est.DoubleConsonantCounter(), KBinsDiscretizer(n_bins=15, encode='onehot', strategy='quantile')),\n",
    "        make_pipeline(est.ContractionsCounter(), KBinsDiscretizer(n_bins=15, encode='onehot', strategy='uniform'))),\n",
    "    KNeighborsClassifier())\n",
    "peval.evaluate(pipe)"
   ]
  },
  {
   "cell_type": "markdown",
   "id": "4abd62b2",
   "metadata": {},
   "source": [
    "Aucun des autres modèles testés ne surpasse le LinearSVC bien que le SGDClassifier soit assez proche."
   ]
  },
  {
   "cell_type": "markdown",
   "id": "e4d8d8a7",
   "metadata": {},
   "source": [
    "## Évaluation finale"
   ]
  },
  {
   "cell_type": "code",
   "execution_count": 42,
   "id": "8cb94e74",
   "metadata": {},
   "outputs": [
    {
     "name": "stdout",
     "output_type": "stream",
     "text": [
      "accuracy: 0.8018181818181818\n",
      "f1-score: 0.8018630416852779\n"
     ]
    },
    {
     "data": {
      "image/png": "[encoded data removed]",
      "text/plain": [
       "<Figure size 640x480 with 2 Axes>"
      ]
     },
     "metadata": {},
     "output_type": "display_data"
    }
   ],
   "source": [
    "pipe = make_pipeline(\n",
    "    est.SpecialCharsCorrector(),\n",
    "    est.NumbersTokenizer(),\n",
    "    TfidfVectorizer(lowercase=False, ngram_range=(1, 2), \n",
    "                    tokenizer=est.nltk_tokenize, token_pattern=None),\n",
    "    LinearSVC(random_state=42, max_iter=3000, C=2.))\n",
    "\n",
    "pipe.fit(X_cv, y_cv)\n",
    "y_pred = pipe.predict(X_test)\n",
    "evaluate(y_test, y_pred)"
   ]
  },
  {
   "cell_type": "code",
   "execution_count": null,
   "id": "adf9095a",
   "metadata": {},
   "outputs": [],
   "source": []
  }
 ],
 "metadata": {
  "kernelspec": {
   "display_name": "Python 3 (ipykernel)",
   "language": "python",
   "name": "python3"
  },
  "language_info": {
   "codemirror_mode": {
    "name": "ipython",
    "version": 3
   },
   "file_extension": ".py",
   "mimetype": "text/x-python",
   "name": "python",
   "nbconvert_exporter": "python",
   "pygments_lexer": "ipython3",
   "version": "3.8.10"
  }
 },
 "nbformat": 4,
 "nbformat_minor": 5
}
