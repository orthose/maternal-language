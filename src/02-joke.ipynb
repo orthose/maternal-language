{
 "cells": [
  {
   "cell_type": "markdown",
   "id": "b214c007",
   "metadata": {},
   "source": [
    "Comment se fait-il que les documents de train.txt et data.txt soient les mêmes ?"
   ]
  },
  {
   "cell_type": "code",
   "execution_count": 1,
   "id": "36f87e74",
   "metadata": {},
   "outputs": [],
   "source": [
    "from utils import load_data\n",
    "import pandas as pd\n",
    "\n",
    "df = load_data(\"../data/train.txt\")\n",
    "X_train = df[\"text\"].apply(lambda x: x.strip())\n",
    "\n",
    "with open(\"../data/data.txt\", 'r') as f:\n",
    "    data = f.read()[:-1]\n",
    "    \n",
    "data = data.split('\\n')\n",
    "df = pd.DataFrame(data, columns=[\"text\"])\n",
    "X_test = df[\"text\"]"
   ]
  },
  {
   "cell_type": "code",
   "execution_count": 2,
   "id": "c8fd2e63",
   "metadata": {},
   "outputs": [
    {
     "data": {
      "text/plain": [
       "((9900,), (9900,))"
      ]
     },
     "execution_count": 2,
     "metadata": {},
     "output_type": "execute_result"
    }
   ],
   "source": [
    "X_train.shape, X_test.shape"
   ]
  },
  {
   "cell_type": "code",
   "execution_count": 3,
   "id": "e34ae06b",
   "metadata": {},
   "outputs": [
    {
     "data": {
      "text/plain": [
       "9900"
      ]
     },
     "execution_count": 3,
     "metadata": {},
     "output_type": "execute_result"
    }
   ],
   "source": [
    "(X_train == X_test).sum()"
   ]
  },
  {
   "cell_type": "code",
   "execution_count": null,
   "id": "e9635a86",
   "metadata": {},
   "outputs": [],
   "source": []
  }
 ],
 "metadata": {
  "kernelspec": {
   "display_name": "Python 3 (ipykernel)",
   "language": "python",
   "name": "python3"
  },
  "language_info": {
   "codemirror_mode": {
    "name": "ipython",
    "version": 3
   },
   "file_extension": ".py",
   "mimetype": "text/x-python",
   "name": "python",
   "nbconvert_exporter": "python",
   "pygments_lexer": "ipython3",
   "version": "3.8.10"
  }
 },
 "nbformat": 4,
 "nbformat_minor": 5
}
