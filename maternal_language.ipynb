{
 "cells": [
  {
   "cell_type": "markdown",
   "id": "815c6478",
   "metadata": {},
   "source": [
    "Propositions de modèles : NBC, LDA.\n",
    "Il faudrait faire une pipeline de validation.\n",
    "A chaque changement dans le preprocessing ou de modèle il faut retester pour comparer."
   ]
  },
  {
   "cell_type": "code",
   "execution_count": 1,
   "id": "3e8e1ebd",
   "metadata": {},
   "outputs": [],
   "source": [
    "import pandas as pd\n",
    "import numpy as np"
   ]
  },
  {
   "cell_type": "code",
   "execution_count": 2,
   "id": "4fbe1d2c",
   "metadata": {},
   "outputs": [
    {
     "data": {
      "text/html": [
       "<div>\n",
       "<style scoped>\n",
       "    .dataframe tbody tr th:only-of-type {\n",
       "        vertical-align: middle;\n",
       "    }\n",
       "\n",
       "    .dataframe tbody tr th {\n",
       "        vertical-align: top;\n",
       "    }\n",
       "\n",
       "    .dataframe thead th {\n",
       "        text-align: right;\n",
       "    }\n",
       "</style>\n",
       "<table border=\"1\" class=\"dataframe\">\n",
       "  <thead>\n",
       "    <tr style=\"text-align: right;\">\n",
       "      <th></th>\n",
       "      <th>language</th>\n",
       "      <th>text</th>\n",
       "    </tr>\n",
       "  </thead>\n",
       "  <tbody>\n",
       "    <tr>\n",
       "      <th>0</th>\n",
       "      <td>GER</td>\n",
       "      <td>IThe importance and popularity of travelling ...</td>\n",
       "    </tr>\n",
       "    <tr>\n",
       "      <th>1</th>\n",
       "      <td>TUR</td>\n",
       "      <td>It is an important decision , how to plan you...</td>\n",
       "    </tr>\n",
       "    <tr>\n",
       "      <th>2</th>\n",
       "      <td>CHI</td>\n",
       "      <td>Some people believe that young people can enj...</td>\n",
       "    </tr>\n",
       "    <tr>\n",
       "      <th>3</th>\n",
       "      <td>TEL</td>\n",
       "      <td>Travelling is usually considered as good recr...</td>\n",
       "    </tr>\n",
       "    <tr>\n",
       "      <th>4</th>\n",
       "      <td>ARA</td>\n",
       "      <td>i agree that . Life is a person live period o...</td>\n",
       "    </tr>\n",
       "  </tbody>\n",
       "</table>\n",
       "</div>"
      ],
      "text/plain": [
       "  language                                               text\n",
       "0      GER   IThe importance and popularity of travelling ...\n",
       "1      TUR   It is an important decision , how to plan you...\n",
       "2      CHI   Some people believe that young people can enj...\n",
       "3      TEL   Travelling is usually considered as good recr...\n",
       "4      ARA   i agree that . Life is a person live period o..."
      ]
     },
     "execution_count": 2,
     "metadata": {},
     "output_type": "execute_result"
    }
   ],
   "source": [
    "# Chargement du dataset\n",
    "with open(\"./data/train.txt\", 'r') as f:\n",
    "    data = f.read()[:-1] # On supprime la dernière ligne\n",
    "\n",
    "# Découpage en liste de textes\n",
    "data = data.split('\\n')\n",
    "# Récupération de l'étiquette\n",
    "data = [(t[0:5][1:-1], t[5:]) for t in data]\n",
    "\n",
    "# Conversion vers Pandas DataFrame\n",
    "df = pd.DataFrame(data, columns=[\"language\", \"text\"])\n",
    "df.head()"
   ]
  },
  {
   "cell_type": "code",
   "execution_count": 3,
   "id": "96ebdc59",
   "metadata": {},
   "outputs": [
    {
     "data": {
      "text/plain": [
       "array(['GER', 'TUR', 'CHI', 'TEL', 'ARA', 'SPA', 'HIN', 'JPN', 'KOR',\n",
       "       'FRE', 'ITA'], dtype=object)"
      ]
     },
     "execution_count": 3,
     "metadata": {},
     "output_type": "execute_result"
    }
   ],
   "source": [
    "df[\"language\"].unique()"
   ]
  },
  {
   "cell_type": "code",
   "execution_count": 4,
   "id": "8887db03",
   "metadata": {},
   "outputs": [
    {
     "data": {
      "text/plain": [
       "9900"
      ]
     },
     "execution_count": 4,
     "metadata": {},
     "output_type": "execute_result"
    }
   ],
   "source": [
    "df[\"text\"].nunique()"
   ]
  },
  {
   "cell_type": "code",
   "execution_count": 5,
   "id": "5d22758a",
   "metadata": {},
   "outputs": [
    {
     "data": {
      "text/html": [
       "<div>\n",
       "<style scoped>\n",
       "    .dataframe tbody tr th:only-of-type {\n",
       "        vertical-align: middle;\n",
       "    }\n",
       "\n",
       "    .dataframe tbody tr th {\n",
       "        vertical-align: top;\n",
       "    }\n",
       "\n",
       "    .dataframe thead th {\n",
       "        text-align: right;\n",
       "    }\n",
       "</style>\n",
       "<table border=\"1\" class=\"dataframe\">\n",
       "  <thead>\n",
       "    <tr style=\"text-align: right;\">\n",
       "      <th></th>\n",
       "      <th>text</th>\n",
       "    </tr>\n",
       "    <tr>\n",
       "      <th>language</th>\n",
       "      <th></th>\n",
       "    </tr>\n",
       "  </thead>\n",
       "  <tbody>\n",
       "    <tr>\n",
       "      <th>ARA</th>\n",
       "      <td>900</td>\n",
       "    </tr>\n",
       "    <tr>\n",
       "      <th>CHI</th>\n",
       "      <td>900</td>\n",
       "    </tr>\n",
       "    <tr>\n",
       "      <th>FRE</th>\n",
       "      <td>900</td>\n",
       "    </tr>\n",
       "    <tr>\n",
       "      <th>GER</th>\n",
       "      <td>900</td>\n",
       "    </tr>\n",
       "    <tr>\n",
       "      <th>HIN</th>\n",
       "      <td>900</td>\n",
       "    </tr>\n",
       "    <tr>\n",
       "      <th>ITA</th>\n",
       "      <td>900</td>\n",
       "    </tr>\n",
       "    <tr>\n",
       "      <th>JPN</th>\n",
       "      <td>900</td>\n",
       "    </tr>\n",
       "    <tr>\n",
       "      <th>KOR</th>\n",
       "      <td>900</td>\n",
       "    </tr>\n",
       "    <tr>\n",
       "      <th>SPA</th>\n",
       "      <td>900</td>\n",
       "    </tr>\n",
       "    <tr>\n",
       "      <th>TEL</th>\n",
       "      <td>900</td>\n",
       "    </tr>\n",
       "    <tr>\n",
       "      <th>TUR</th>\n",
       "      <td>900</td>\n",
       "    </tr>\n",
       "  </tbody>\n",
       "</table>\n",
       "</div>"
      ],
      "text/plain": [
       "          text\n",
       "language      \n",
       "ARA        900\n",
       "CHI        900\n",
       "FRE        900\n",
       "GER        900\n",
       "HIN        900\n",
       "ITA        900\n",
       "JPN        900\n",
       "KOR        900\n",
       "SPA        900\n",
       "TEL        900\n",
       "TUR        900"
      ]
     },
     "execution_count": 5,
     "metadata": {},
     "output_type": "execute_result"
    }
   ],
   "source": [
    "df.groupby(\"language\").count()"
   ]
  },
  {
   "cell_type": "markdown",
   "id": "f9239338",
   "metadata": {},
   "source": [
    "# Langues\n",
    "* FRA = Français\n",
    "* GER = Allemand\n",
    "* ITA = Italien\n",
    "* ESP = Espagnol\n",
    "* ARA = Arabe\n",
    "* KOR = Coréen\n",
    "* JPN = Japonais\n",
    "* CHI = Chilien\n",
    "* TEL = Télougou\n",
    "* HIN = Hindi\n",
    "* TUR = Turc"
   ]
  },
  {
   "cell_type": "markdown",
   "id": "a186d79c",
   "metadata": {},
   "source": [
    "# Découpage\n",
    "On pourrait faire de la cross-validation pour optimiser les hyperparamètres.\n",
    "Mais dans un premier temps on peut simplement découper en trois parties notre dataset : Train, Valid et Test.\n",
    "Comme il y a 900 observations par langue on va découper en 600, 200, 100."
   ]
  },
  {
   "cell_type": "code",
   "execution_count": 6,
   "id": "69aefc9a",
   "metadata": {},
   "outputs": [],
   "source": [
    "size = [600, 200, 100]\n",
    "assert sum(size) == 900\n",
    "df[\"rank\"] = df.sample(frac=1, random_state=42).groupby(\"language\")[\"language\"].rank(method=\"first\", ascending=True)\n",
    "df_train = df[df[\"rank\"] <= size[0]].drop(\"rank\", axis=1)\n",
    "df_valid = df[(size[0] < df[\"rank\"]) & (df[\"rank\"] <= size[0] + size[1])].drop(\"rank\", axis=1)\n",
    "df_test = df[(size[0] + size[1] < df[\"rank\"]) & (df[\"rank\"] <= size[0] + size[1] + size[2])].drop(\"rank\", axis=1)"
   ]
  },
  {
   "cell_type": "code",
   "execution_count": 7,
   "id": "b98671ae",
   "metadata": {},
   "outputs": [
    {
     "data": {
      "text/plain": [
       "language    6600\n",
       "text        6600\n",
       "dtype: int64"
      ]
     },
     "execution_count": 7,
     "metadata": {},
     "output_type": "execute_result"
    }
   ],
   "source": [
    "df_train.count()"
   ]
  },
  {
   "cell_type": "code",
   "execution_count": 8,
   "id": "9e4f7e98",
   "metadata": {},
   "outputs": [
    {
     "data": {
      "text/plain": [
       "language    2200\n",
       "text        2200\n",
       "dtype: int64"
      ]
     },
     "execution_count": 8,
     "metadata": {},
     "output_type": "execute_result"
    }
   ],
   "source": [
    "df_valid.count()"
   ]
  },
  {
   "cell_type": "code",
   "execution_count": 9,
   "id": "145800f6",
   "metadata": {},
   "outputs": [
    {
     "data": {
      "text/plain": [
       "language    1100\n",
       "text        1100\n",
       "dtype: int64"
      ]
     },
     "execution_count": 9,
     "metadata": {},
     "output_type": "execute_result"
    }
   ],
   "source": [
    "df_test.count()"
   ]
  },
  {
   "cell_type": "code",
   "execution_count": 10,
   "id": "113a7e5a",
   "metadata": {},
   "outputs": [],
   "source": [
    "X = df[\"text\"]\n",
    "X_train = df_train[\"text\"]\n",
    "y_train = df_train[\"language\"]\n",
    "X_valid = df_valid[\"text\"]\n",
    "y_valid = df_valid[\"language\"]\n",
    "X_test = df_test[\"text\"]\n",
    "y_test = df_test[\"language\"]"
   ]
  },
  {
   "cell_type": "markdown",
   "id": "5445a047",
   "metadata": {},
   "source": [
    "Nous allons créer un premier pipeline avec une méthode d'évaluation."
   ]
  },
  {
   "cell_type": "markdown",
   "id": "c3388e8e",
   "metadata": {},
   "source": [
    "# Bag of Words\n",
    "Bag of Words est la méthode de vectorisation la plus simple qui consiste à compter le nombre d'occurences de chaque mot du vocabulaire."
   ]
  },
  {
   "cell_type": "code",
   "execution_count": 11,
   "id": "c7bf54d6",
   "metadata": {},
   "outputs": [],
   "source": [
    "from sklearn.feature_extraction.text import CountVectorizer"
   ]
  },
  {
   "cell_type": "code",
   "execution_count": 12,
   "id": "9ff38252",
   "metadata": {},
   "outputs": [
    {
     "data": {
      "text/plain": [
       "6600"
      ]
     },
     "execution_count": 12,
     "metadata": {},
     "output_type": "execute_result"
    }
   ],
   "source": [
    "cv = CountVectorizer()\n",
    "# On veut le même vocabulaire sur train et test\n",
    "cv.fit(X)\n",
    "cv_train = cv.transform(X_train)\n",
    "cv_valid = cv.transform(X_valid)\n",
    "cv_test = cv.transform(X_test)\n",
    "cv_train.shape[0]"
   ]
  },
  {
   "cell_type": "markdown",
   "id": "1469a0b0",
   "metadata": {},
   "source": [
    "# Linear SVC"
   ]
  },
  {
   "cell_type": "code",
   "execution_count": 13,
   "id": "7bee9983",
   "metadata": {},
   "outputs": [],
   "source": [
    "from sklearn.svm import LinearSVC"
   ]
  },
  {
   "cell_type": "code",
   "execution_count": 14,
   "id": "6b77d947",
   "metadata": {},
   "outputs": [],
   "source": [
    "model = LinearSVC(random_state=42, max_iter=1500)\n",
    "model.fit(cv_train, y_train)\n",
    "y_pred = model.predict(cv_valid)"
   ]
  },
  {
   "cell_type": "code",
   "execution_count": 15,
   "id": "90aa3497",
   "metadata": {},
   "outputs": [],
   "source": [
    "def train(X_train, y_train, X_valid) -> np.array:\n",
    "    model = LinearSVC(random_state=42, max_iter=1500)\n",
    "    model.fit(X_train, y_train)\n",
    "    y_pred = model.predict(X_valid)\n",
    "    return y_pred"
   ]
  },
  {
   "cell_type": "markdown",
   "id": "ae8b7265",
   "metadata": {},
   "source": [
    "# Score"
   ]
  },
  {
   "cell_type": "code",
   "execution_count": 16,
   "id": "7991d119",
   "metadata": {},
   "outputs": [],
   "source": [
    "from sklearn.metrics import accuracy_score, f1_score"
   ]
  },
  {
   "cell_type": "code",
   "execution_count": 17,
   "id": "555617a3",
   "metadata": {},
   "outputs": [
    {
     "data": {
      "text/plain": [
       "0.6659090909090909"
      ]
     },
     "execution_count": 17,
     "metadata": {},
     "output_type": "execute_result"
    }
   ],
   "source": [
    "accuracy_score(y_valid, y_pred)"
   ]
  },
  {
   "cell_type": "code",
   "execution_count": 18,
   "id": "36245be2",
   "metadata": {},
   "outputs": [
    {
     "data": {
      "text/plain": [
       "0.6654162399577045"
      ]
     },
     "execution_count": 18,
     "metadata": {},
     "output_type": "execute_result"
    }
   ],
   "source": [
    "f1_score(y_valid, y_pred, average=\"macro\")"
   ]
  },
  {
   "cell_type": "markdown",
   "id": "ce39615e",
   "metadata": {},
   "source": [
    "Ici on utilise la f1 score sans pondération. Dans notre cas le type d'erreur n'est pas un critère."
   ]
  },
  {
   "cell_type": "markdown",
   "id": "f8dffa14",
   "metadata": {},
   "source": [
    "# Matrice de confusion"
   ]
  },
  {
   "cell_type": "code",
   "execution_count": 19,
   "id": "e815d96c",
   "metadata": {},
   "outputs": [],
   "source": [
    "from sklearn import metrics\n",
    "import matplotlib.pyplot as plt\n",
    "import seaborn as sns"
   ]
  },
  {
   "cell_type": "code",
   "execution_count": 20,
   "id": "a9cced24",
   "metadata": {},
   "outputs": [
    {
     "data": {
      "image/png": "[encoded data removed]",
      "text/plain": [
       "<Figure size 640x480 with 2 Axes>"
      ]
     },
     "metadata": {},
     "output_type": "display_data"
    }
   ],
   "source": [
    "labels = ['TEL', 'HIN', 'CHI', 'KOR', 'JPN', 'FRE', 'SPA', 'ITA', 'TUR', 'ARA', 'GER']\n",
    "matrix = metrics.confusion_matrix(y_valid, y_pred, labels=labels)\n",
    "sns.heatmap(matrix, annot=True, fmt='.3g', xticklabels=labels, yticklabels=labels)\n",
    "plt.yticks(rotation=0)\n",
    "plt.show()"
   ]
  },
  {
   "cell_type": "code",
   "execution_count": 21,
   "id": "cbe9edab",
   "metadata": {},
   "outputs": [],
   "source": [
    "def evaluate(y_valid, y_pred):\n",
    "    print(f\"accuracy: {accuracy_score(y_valid, y_pred)}\")\n",
    "    print(f\"f1-score: {f1_score(y_valid, y_pred, average='macro')}\")\n",
    "    labels = ['TEL', 'HIN', 'CHI', 'KOR', 'JPN', 'FRE', 'SPA', 'ITA', 'TUR', 'ARA', 'GER']\n",
    "    matrix = metrics.confusion_matrix(y_valid, y_pred, labels=labels)\n",
    "    sns.heatmap(matrix, annot=True, fmt='.3g', xticklabels=labels, yticklabels=labels)\n",
    "    plt.yticks(rotation=0)\n",
    "    plt.show()"
   ]
  },
  {
   "cell_type": "markdown",
   "id": "1f37474d",
   "metadata": {},
   "source": [
    "# Caractères"
   ]
  },
  {
   "cell_type": "code",
   "execution_count": 22,
   "id": "d88f79bf",
   "metadata": {},
   "outputs": [],
   "source": [
    "from collections import Counter"
   ]
  },
  {
   "cell_type": "code",
   "execution_count": 23,
   "id": "e8bfadc6",
   "metadata": {},
   "outputs": [
    {
     "data": {
      "text/plain": [
       "Counter({' ': 3452797,\n",
       "         'I': 62484,\n",
       "         'T': 36018,\n",
       "         'h': 695791,\n",
       "         'e': 1814180,\n",
       "         'i': 937505,\n",
       "         'm': 343676,\n",
       "         'p': 327313,\n",
       "         'o': 1128626,\n",
       "         'r': 771923,\n",
       "         't': 1334123,\n",
       "         'a': 1041637,\n",
       "         'n': 984804,\n",
       "         'c': 431518,\n",
       "         'd': 472773,\n",
       "         'u': 416545,\n",
       "         'l': 570986,\n",
       "         'y': 324570,\n",
       "         'f': 283569,\n",
       "         'v': 166801,\n",
       "         'g': 268564,\n",
       "         's': 866695,\n",
       "         ',': 127352,\n",
       "         'E': 6669,\n",
       "         'b': 196444,\n",
       "         'k': 106117,\n",
       "         'w': 258693,\n",
       "         '.': 158991,\n",
       "         'A': 18244,\n",
       "         'W': 8631,\n",
       "         'S': 14003,\n",
       "         'F': 13330,\n",
       "         'x': 28415,\n",
       "         'z': 9470,\n",
       "         'j': 33452,\n",
       "         '-': 4735,\n",
       "         'U': 2180,\n",
       "         'M': 6256,\n",
       "         'B': 9426,\n",
       "         'O': 7328,\n",
       "         'q': 8209,\n",
       "         'N': 5123,\n",
       "         \"'\": 25603,\n",
       "         'D': 2466,\n",
       "         'L': 3176,\n",
       "         'Y': 3990,\n",
       "         '/': 1129,\n",
       "         'H': 7850,\n",
       "         '(': 1339,\n",
       "         ')': 1390,\n",
       "         ':': 2296,\n",
       "         '9': 365,\n",
       "         '0': 2245,\n",
       "         '3': 515,\n",
       "         'C': 4178,\n",
       "         'V': 1412,\n",
       "         'P': 3574,\n",
       "         '2': 1207,\n",
       "         'J': 1149,\n",
       "         '!': 1316,\n",
       "         ';': 1625,\n",
       "         '`': 7844,\n",
       "         '1': 1188,\n",
       "         '+': 42,\n",
       "         '=': 41,\n",
       "         '?': 3200,\n",
       "         'G': 1917,\n",
       "         'K': 1030,\n",
       "         '&': 166,\n",
       "         'R': 2111,\n",
       "         '6': 304,\n",
       "         '4': 303,\n",
       "         '7': 223,\n",
       "         '8': 282,\n",
       "         '%': 173,\n",
       "         '5': 578,\n",
       "         '>': 59,\n",
       "         'X': 121,\n",
       "         'Z': 67,\n",
       "         'Q': 73,\n",
       "         '<': 35,\n",
       "         '$': 51,\n",
       "         '~': 12,\n",
       "         '\\\\': 101,\n",
       "         '*': 112,\n",
       "         '[': 31,\n",
       "         ']': 24,\n",
       "         '{': 6,\n",
       "         '}': 7,\n",
       "         '_': 73,\n",
       "         '|': 42,\n",
       "         '^': 11,\n",
       "         '#': 16,\n",
       "         '´': 1})"
      ]
     },
     "execution_count": 23,
     "metadata": {},
     "output_type": "execute_result"
    }
   ],
   "source": [
    "counter = Counter([c for doc in X for c in doc])\n",
    "counter"
   ]
  },
  {
   "cell_type": "markdown",
   "id": "13d0ed95",
   "metadata": {},
   "source": [
    "On n'a pas de caractères bizarres tout est ASCII. Par contre l'utilisation de certains caractères peut être abusive notamment en ce qui concerne les caractères spéciaux."
   ]
  },
  {
   "cell_type": "code",
   "execution_count": 24,
   "id": "f738ea98",
   "metadata": {},
   "outputs": [],
   "source": [
    "# Recherche de documents comportant des caractères spéciaux\n",
    "def find_example(char: str, window: int = 16, index=False):\n",
    "    res = []\n",
    "    for idx, doc in enumerate(X):\n",
    "        occ = [i for i, c in enumerate(doc) if c == char]\n",
    "        for i in occ:\n",
    "            ext = doc[max(0, i-window):i+window+1]\n",
    "            if index:\n",
    "                ext = (idx, ext)\n",
    "            res.append(ext)\n",
    "    return res"
   ]
  },
  {
   "cell_type": "code",
   "execution_count": 25,
   "id": "db461981",
   "metadata": {},
   "outputs": [
    {
     "data": {
      "text/plain": [
       "(6, \" the statement '' Young people no\")"
      ]
     },
     "execution_count": 25,
     "metadata": {},
     "output_type": "execute_result"
    }
   ],
   "source": [
    "find_example(\"'\", index=True)[3]"
   ]
  },
  {
   "cell_type": "code",
   "execution_count": 26,
   "id": "7d449df6",
   "metadata": {},
   "outputs": [
    {
     "data": {
      "text/plain": [
       "\"ave learned ` 1 + 1 = 2 ' . we kn\""
      ]
     },
     "execution_count": 26,
     "metadata": {},
     "output_type": "execute_result"
    }
   ],
   "source": [
    "find_example('+')[0]"
   ]
  },
  {
   "cell_type": "code",
   "execution_count": 27,
   "id": "0d07f292",
   "metadata": {},
   "outputs": [
    {
     "data": {
      "text/plain": [
       "'. Conclusion : ************** I d'"
      ]
     },
     "execution_count": 27,
     "metadata": {},
     "output_type": "execute_result"
    }
   ],
   "source": [
    "find_example('*')[3]"
   ]
  },
  {
   "cell_type": "code",
   "execution_count": 28,
   "id": "ac31816c",
   "metadata": {},
   "outputs": [
    {
     "data": {
      "text/plain": [
       "\"learned ` 1 + 1 = 2 ' . we know n\""
      ]
     },
     "execution_count": 28,
     "metadata": {},
     "output_type": "execute_result"
    }
   ],
   "source": [
    "find_example('=')[0]"
   ]
  },
  {
   "cell_type": "code",
   "execution_count": 29,
   "id": "4a760bc9",
   "metadata": {},
   "outputs": [
    {
     "data": {
      "text/plain": [
       "' are as below : # Ideas and conce'"
      ]
     },
     "execution_count": 29,
     "metadata": {},
     "output_type": "execute_result"
    }
   ],
   "source": [
    "find_example('#')[0]"
   ]
  },
  {
   "cell_type": "code",
   "execution_count": 30,
   "id": "09eb9f5d",
   "metadata": {},
   "outputs": [
    {
     "data": {
      "text/plain": [
       "['pproximately 20 ~ 30 % of their b',\n",
       " ', If you are 50 ~ 60 years old yo',\n",
       " '< < < < < __ -- ~ ~ -- __The End ']"
      ]
     },
     "execution_count": 30,
     "metadata": {},
     "output_type": "execute_result"
    }
   ],
   "source": [
    "find_example('~')[0:3]"
   ]
  },
  {
   "cell_type": "code",
   "execution_count": 31,
   "id": "eea61bea",
   "metadata": {},
   "outputs": [
    {
     "data": {
      "text/plain": [
       "' later life you | ll not be able '"
      ]
     },
     "execution_count": 31,
     "metadata": {},
     "output_type": "execute_result"
    }
   ],
   "source": [
    "find_example('|')[0]"
   ]
  },
  {
   "cell_type": "code",
   "execution_count": 32,
   "id": "f1e5880f",
   "metadata": {},
   "outputs": [
    {
     "data": {
      "text/plain": [
       "'be the best age [ use of young pe'"
      ]
     },
     "execution_count": 32,
     "metadata": {},
     "output_type": "execute_result"
    }
   ],
   "source": [
    "find_example('[')[0]"
   ]
  },
  {
   "cell_type": "code",
   "execution_count": 33,
   "id": "07febea8",
   "metadata": {},
   "outputs": [
    {
     "data": {
      "text/plain": [
       "' do not pollute { like sun , wind'"
      ]
     },
     "execution_count": 33,
     "metadata": {},
     "output_type": "execute_result"
    }
   ],
   "source": [
    "find_example('{')[0]"
   ]
  },
  {
   "cell_type": "code",
   "execution_count": 34,
   "id": "8845f15f",
   "metadata": {},
   "outputs": [
    {
     "data": {
      "text/plain": [
       "[(1762, 'icles and roller_skates to go to '),\n",
       " (2397, ' not during week_end and also the'),\n",
       " (3065, '< < < < < < < < __ -- ~ ~ -- __Th')]"
      ]
     },
     "execution_count": 34,
     "metadata": {},
     "output_type": "execute_result"
    }
   ],
   "source": [
    "find_example('_', index=True)[0:3]"
   ]
  },
  {
   "cell_type": "code",
   "execution_count": 35,
   "id": "643679a9",
   "metadata": {},
   "outputs": [
    {
     "data": {
      "text/plain": [
       "' < < < < < < < < < __ -- ~ ~ -- __The End __ -- ~ ~ -- __ > > > > > > > > >'"
      ]
     },
     "execution_count": 35,
     "metadata": {},
     "output_type": "execute_result"
    }
   ],
   "source": [
    "X[3065][-75:]"
   ]
  },
  {
   "cell_type": "code",
   "execution_count": 36,
   "id": "9c7e03cf",
   "metadata": {},
   "outputs": [
    {
     "data": {
      "text/plain": [
       "\" `` TRY AND TRY UNTILL U SUCCED '' ____________________________________________________ - i agree wi\""
      ]
     },
     "execution_count": 36,
     "metadata": {},
     "output_type": "execute_result"
    }
   ],
   "source": [
    "X[4770][:100]"
   ]
  },
  {
   "cell_type": "code",
   "execution_count": 37,
   "id": "064fb38b",
   "metadata": {},
   "outputs": [
    {
     "data": {
      "text/plain": [
       "\"have adapt to t \\\\ people 's expec\""
      ]
     },
     "execution_count": 37,
     "metadata": {},
     "output_type": "execute_result"
    }
   ],
   "source": [
    "find_example('\\\\')[0]"
   ]
  },
  {
   "cell_type": "code",
   "execution_count": 38,
   "id": "4c9c1f2e",
   "metadata": {},
   "outputs": [
    {
     "data": {
      "text/plain": [
       "' a saying that `` teach him ` how'"
      ]
     },
     "execution_count": 38,
     "metadata": {},
     "output_type": "execute_result"
    }
   ],
   "source": [
    "find_example('`')[3]"
   ]
  },
  {
   "cell_type": "code",
   "execution_count": 39,
   "id": "a5877fd4",
   "metadata": {},
   "outputs": [
    {
     "data": {
      "text/plain": [
       "['g something won ´ t be useless bu']"
      ]
     },
     "execution_count": 39,
     "metadata": {},
     "output_type": "execute_result"
    }
   ],
   "source": [
    "find_example('´')"
   ]
  },
  {
   "cell_type": "code",
   "execution_count": 40,
   "id": "f6721103",
   "metadata": {},
   "outputs": [
    {
     "data": {
      "text/plain": [
       "'dfather sayed : ^ Give a smile an'"
      ]
     },
     "execution_count": 40,
     "metadata": {},
     "output_type": "execute_result"
    }
   ],
   "source": [
    "find_example('^')[0]"
   ]
  },
  {
   "cell_type": "code",
   "execution_count": 41,
   "id": "d9e1cc48",
   "metadata": {},
   "outputs": [
    {
     "data": {
      "text/plain": [
       "'ical records.70 % of the people r'"
      ]
     },
     "execution_count": 41,
     "metadata": {},
     "output_type": "execute_result"
    }
   ],
   "source": [
    "find_example('%')[0]"
   ]
  },
  {
   "cell_type": "code",
   "execution_count": 42,
   "id": "a21a8d3c",
   "metadata": {},
   "outputs": [],
   "source": [
    "import re\n",
    "\n",
    "def correct_special_chars(doc: str) -> str:\n",
    "    # Harmonisation de la ponctuation\n",
    "    doc = re.sub(r\"[\\[{]\", \"(\", doc)\n",
    "    doc = re.sub(r\"[\\]}]\", \")\", doc)\n",
    "    \n",
    "    # Suppression des caractères spéciaux\n",
    "    doc = re.sub(r\"[+*=#~^|_\\\\'`´]\", \"\", doc)\n",
    "    \n",
    "    return doc"
   ]
  },
  {
   "cell_type": "code",
   "execution_count": 43,
   "id": "2774ef93",
   "metadata": {},
   "outputs": [
    {
     "name": "stdout",
     "output_type": "stream",
     "text": [
      "accuracy: 0.6672727272727272\n",
      "f1-score: 0.6666389542229575\n"
     ]
    },
    {
     "data": {
      "image/png": "[encoded data removed]",
      "text/plain": [
       "<Figure size 640x480 with 2 Axes>"
      ]
     },
     "metadata": {},
     "output_type": "display_data"
    }
   ],
   "source": [
    "X_t = X_train.apply(correct_special_chars)\n",
    "X_v = X_valid.apply(correct_special_chars)\n",
    "cv_t = cv.transform(X_t)\n",
    "cv_v = cv.transform(X_v)\n",
    "y_pred = train(cv_t, y_train, cv_v)\n",
    "evaluate(y_valid, y_pred)"
   ]
  },
  {
   "cell_type": "markdown",
   "id": "9bf3ec69",
   "metadata": {},
   "source": [
    "La correction des caractères spéciaux ne change pratiquement pas le score."
   ]
  },
  {
   "cell_type": "code",
   "execution_count": 52,
   "id": "7bdba311",
   "metadata": {},
   "outputs": [
    {
     "data": {
      "text/plain": [
       "1249"
      ]
     },
     "execution_count": 52,
     "metadata": {},
     "output_type": "execute_result"
    }
   ],
   "source": [
    "count = 0\n",
    "for doc in X_t:\n",
    "    if re.match(\".*\\d.*\", doc) is not None:\n",
    "        count += 1"
   ]
  },
  {
   "cell_type": "markdown",
   "id": "06be68a3",
   "metadata": {},
   "source": [
    "Il y a `1249/6600 = 18%` de documents dans le train avec des nombres. Est-ce qu'on ne pourrait pas tokenizer les nombres ?"
   ]
  },
  {
   "cell_type": "code",
   "execution_count": null,
   "id": "ac2b26da",
   "metadata": {},
   "outputs": [],
   "source": []
  }
 ],
 "metadata": {
  "kernelspec": {
   "display_name": "Python 3 (ipykernel)",
   "language": "python",
   "name": "python3"
  },
  "language_info": {
   "codemirror_mode": {
    "name": "ipython",
    "version": 3
   },
   "file_extension": ".py",
   "mimetype": "text/x-python",
   "name": "python",
   "nbconvert_exporter": "python",
   "pygments_lexer": "ipython3",
   "version": "3.8.10"
  }
 },
 "nbformat": 4,
 "nbformat_minor": 5
}
