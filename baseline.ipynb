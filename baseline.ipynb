{
 "cells": [
  {
   "cell_type": "code",
   "execution_count": 1,
   "id": "3e8e1ebd",
   "metadata": {},
   "outputs": [],
   "source": [
    "from utils import load_data, train_valid_test_split, evaluate"
   ]
  },
  {
   "cell_type": "code",
   "execution_count": 2,
   "id": "4fbe1d2c",
   "metadata": {},
   "outputs": [
    {
     "data": {
      "text/html": [
       "<div>\n",
       "<style scoped>\n",
       "    .dataframe tbody tr th:only-of-type {\n",
       "        vertical-align: middle;\n",
       "    }\n",
       "\n",
       "    .dataframe tbody tr th {\n",
       "        vertical-align: top;\n",
       "    }\n",
       "\n",
       "    .dataframe thead th {\n",
       "        text-align: right;\n",
       "    }\n",
       "</style>\n",
       "<table border=\"1\" class=\"dataframe\">\n",
       "  <thead>\n",
       "    <tr style=\"text-align: right;\">\n",
       "      <th></th>\n",
       "      <th>language</th>\n",
       "      <th>text</th>\n",
       "    </tr>\n",
       "  </thead>\n",
       "  <tbody>\n",
       "    <tr>\n",
       "      <th>0</th>\n",
       "      <td>GER</td>\n",
       "      <td>IThe importance and popularity of travelling ...</td>\n",
       "    </tr>\n",
       "    <tr>\n",
       "      <th>1</th>\n",
       "      <td>TUR</td>\n",
       "      <td>It is an important decision , how to plan you...</td>\n",
       "    </tr>\n",
       "    <tr>\n",
       "      <th>2</th>\n",
       "      <td>CHI</td>\n",
       "      <td>Some people believe that young people can enj...</td>\n",
       "    </tr>\n",
       "    <tr>\n",
       "      <th>3</th>\n",
       "      <td>TEL</td>\n",
       "      <td>Travelling is usually considered as good recr...</td>\n",
       "    </tr>\n",
       "    <tr>\n",
       "      <th>4</th>\n",
       "      <td>ARA</td>\n",
       "      <td>i agree that . Life is a person live period o...</td>\n",
       "    </tr>\n",
       "  </tbody>\n",
       "</table>\n",
       "</div>"
      ],
      "text/plain": [
       "  language                                               text\n",
       "0      GER   IThe importance and popularity of travelling ...\n",
       "1      TUR   It is an important decision , how to plan you...\n",
       "2      CHI   Some people believe that young people can enj...\n",
       "3      TEL   Travelling is usually considered as good recr...\n",
       "4      ARA   i agree that . Life is a person live period o..."
      ]
     },
     "execution_count": 2,
     "metadata": {},
     "output_type": "execute_result"
    }
   ],
   "source": [
    "df = load_data(\"./data/train.txt\")\n",
    "df.head()"
   ]
  },
  {
   "cell_type": "code",
   "execution_count": 3,
   "id": "96ebdc59",
   "metadata": {},
   "outputs": [
    {
     "data": {
      "text/plain": [
       "array(['GER', 'TUR', 'CHI', 'TEL', 'ARA', 'SPA', 'HIN', 'JPN', 'KOR',\n",
       "       'FRE', 'ITA'], dtype=object)"
      ]
     },
     "execution_count": 3,
     "metadata": {},
     "output_type": "execute_result"
    }
   ],
   "source": [
    "df[\"language\"].unique()"
   ]
  },
  {
   "cell_type": "code",
   "execution_count": 4,
   "id": "8887db03",
   "metadata": {},
   "outputs": [
    {
     "data": {
      "text/plain": [
       "9900"
      ]
     },
     "execution_count": 4,
     "metadata": {},
     "output_type": "execute_result"
    }
   ],
   "source": [
    "df[\"text\"].nunique()"
   ]
  },
  {
   "cell_type": "code",
   "execution_count": 5,
   "id": "5d22758a",
   "metadata": {},
   "outputs": [
    {
     "data": {
      "text/html": [
       "<div>\n",
       "<style scoped>\n",
       "    .dataframe tbody tr th:only-of-type {\n",
       "        vertical-align: middle;\n",
       "    }\n",
       "\n",
       "    .dataframe tbody tr th {\n",
       "        vertical-align: top;\n",
       "    }\n",
       "\n",
       "    .dataframe thead th {\n",
       "        text-align: right;\n",
       "    }\n",
       "</style>\n",
       "<table border=\"1\" class=\"dataframe\">\n",
       "  <thead>\n",
       "    <tr style=\"text-align: right;\">\n",
       "      <th></th>\n",
       "      <th>text</th>\n",
       "    </tr>\n",
       "    <tr>\n",
       "      <th>language</th>\n",
       "      <th></th>\n",
       "    </tr>\n",
       "  </thead>\n",
       "  <tbody>\n",
       "    <tr>\n",
       "      <th>ARA</th>\n",
       "      <td>900</td>\n",
       "    </tr>\n",
       "    <tr>\n",
       "      <th>CHI</th>\n",
       "      <td>900</td>\n",
       "    </tr>\n",
       "    <tr>\n",
       "      <th>FRE</th>\n",
       "      <td>900</td>\n",
       "    </tr>\n",
       "    <tr>\n",
       "      <th>GER</th>\n",
       "      <td>900</td>\n",
       "    </tr>\n",
       "    <tr>\n",
       "      <th>HIN</th>\n",
       "      <td>900</td>\n",
       "    </tr>\n",
       "    <tr>\n",
       "      <th>ITA</th>\n",
       "      <td>900</td>\n",
       "    </tr>\n",
       "    <tr>\n",
       "      <th>JPN</th>\n",
       "      <td>900</td>\n",
       "    </tr>\n",
       "    <tr>\n",
       "      <th>KOR</th>\n",
       "      <td>900</td>\n",
       "    </tr>\n",
       "    <tr>\n",
       "      <th>SPA</th>\n",
       "      <td>900</td>\n",
       "    </tr>\n",
       "    <tr>\n",
       "      <th>TEL</th>\n",
       "      <td>900</td>\n",
       "    </tr>\n",
       "    <tr>\n",
       "      <th>TUR</th>\n",
       "      <td>900</td>\n",
       "    </tr>\n",
       "  </tbody>\n",
       "</table>\n",
       "</div>"
      ],
      "text/plain": [
       "          text\n",
       "language      \n",
       "ARA        900\n",
       "CHI        900\n",
       "FRE        900\n",
       "GER        900\n",
       "HIN        900\n",
       "ITA        900\n",
       "JPN        900\n",
       "KOR        900\n",
       "SPA        900\n",
       "TEL        900\n",
       "TUR        900"
      ]
     },
     "execution_count": 5,
     "metadata": {},
     "output_type": "execute_result"
    }
   ],
   "source": [
    "df.groupby(\"language\").count()"
   ]
  },
  {
   "cell_type": "markdown",
   "id": "f9239338",
   "metadata": {},
   "source": [
    "# Langues\n",
    "* FRA = Français\n",
    "* GER = Allemand\n",
    "* ITA = Italien\n",
    "* ESP = Espagnol\n",
    "* ARA = Arabe\n",
    "* KOR = Coréen\n",
    "* JPN = Japonais\n",
    "* CHI = Chilien\n",
    "* TEL = Télougou\n",
    "* HIN = Hindi\n",
    "* TUR = Turc"
   ]
  },
  {
   "cell_type": "markdown",
   "id": "a186d79c",
   "metadata": {},
   "source": [
    "# Découpage\n",
    "On pourrait faire de la cross-validation pour optimiser les hyperparamètres.\n",
    "Mais dans un premier temps on peut simplement découper en trois parties notre dataset : Train, Valid et Test.\n",
    "Comme il y a 900 observations par langue on va découper en 600, 200, 100."
   ]
  },
  {
   "cell_type": "code",
   "execution_count": 6,
   "id": "69aefc9a",
   "metadata": {},
   "outputs": [],
   "source": [
    "df_train, df_valid, df_test = train_valid_test_split(df, size=(600, 200, 100))"
   ]
  },
  {
   "cell_type": "code",
   "execution_count": 7,
   "id": "b98671ae",
   "metadata": {},
   "outputs": [
    {
     "data": {
      "text/plain": [
       "language    6600\n",
       "text        6600\n",
       "dtype: int64"
      ]
     },
     "execution_count": 7,
     "metadata": {},
     "output_type": "execute_result"
    }
   ],
   "source": [
    "df_train.count()"
   ]
  },
  {
   "cell_type": "code",
   "execution_count": 8,
   "id": "9e4f7e98",
   "metadata": {},
   "outputs": [
    {
     "data": {
      "text/plain": [
       "language    2200\n",
       "text        2200\n",
       "dtype: int64"
      ]
     },
     "execution_count": 8,
     "metadata": {},
     "output_type": "execute_result"
    }
   ],
   "source": [
    "df_valid.count()"
   ]
  },
  {
   "cell_type": "code",
   "execution_count": 9,
   "id": "145800f6",
   "metadata": {},
   "outputs": [
    {
     "data": {
      "text/plain": [
       "language    1100\n",
       "text        1100\n",
       "dtype: int64"
      ]
     },
     "execution_count": 9,
     "metadata": {},
     "output_type": "execute_result"
    }
   ],
   "source": [
    "df_test.count()"
   ]
  },
  {
   "cell_type": "code",
   "execution_count": 10,
   "id": "113a7e5a",
   "metadata": {},
   "outputs": [],
   "source": [
    "X = df[\"text\"]\n",
    "X_train = df_train[\"text\"]\n",
    "y_train = df_train[\"language\"]\n",
    "X_valid = df_valid[\"text\"]\n",
    "y_valid = df_valid[\"language\"]\n",
    "X_test = df_test[\"text\"]\n",
    "y_test = df_test[\"language\"]"
   ]
  },
  {
   "cell_type": "markdown",
   "id": "5445a047",
   "metadata": {},
   "source": [
    "Nous allons créer un premier pipeline avec une méthode d'évaluation."
   ]
  },
  {
   "cell_type": "markdown",
   "id": "c3388e8e",
   "metadata": {},
   "source": [
    "# Bag of Words\n",
    "Bag of Words est la méthode de vectorisation la plus simple qui consiste à compter le nombre d'occurences de chaque mot du vocabulaire."
   ]
  },
  {
   "cell_type": "code",
   "execution_count": 11,
   "id": "c7bf54d6",
   "metadata": {},
   "outputs": [],
   "source": [
    "from sklearn.feature_extraction.text import CountVectorizer"
   ]
  },
  {
   "cell_type": "code",
   "execution_count": 12,
   "id": "9ff38252",
   "metadata": {},
   "outputs": [
    {
     "data": {
      "text/plain": [
       "6600"
      ]
     },
     "execution_count": 12,
     "metadata": {},
     "output_type": "execute_result"
    }
   ],
   "source": [
    "cv = CountVectorizer()\n",
    "# On veut le même vocabulaire sur train et test\n",
    "cv.fit(X)\n",
    "cv_train = cv.transform(X_train)\n",
    "cv_valid = cv.transform(X_valid)\n",
    "cv_test = cv.transform(X_test)\n",
    "cv_train.shape[0]"
   ]
  },
  {
   "cell_type": "markdown",
   "id": "1469a0b0",
   "metadata": {},
   "source": [
    "# Linear SVC"
   ]
  },
  {
   "cell_type": "code",
   "execution_count": 13,
   "id": "7bee9983",
   "metadata": {},
   "outputs": [],
   "source": [
    "from sklearn.svm import LinearSVC"
   ]
  },
  {
   "cell_type": "code",
   "execution_count": 14,
   "id": "6b77d947",
   "metadata": {},
   "outputs": [],
   "source": [
    "model = LinearSVC(random_state=42, max_iter=1500)\n",
    "model.fit(cv_train, y_train)\n",
    "y_pred = model.predict(cv_valid)"
   ]
  },
  {
   "cell_type": "markdown",
   "id": "ae8b7265",
   "metadata": {},
   "source": [
    "# Score"
   ]
  },
  {
   "cell_type": "code",
   "execution_count": 15,
   "id": "7991d119",
   "metadata": {},
   "outputs": [],
   "source": [
    "from sklearn.metrics import accuracy_score, f1_score"
   ]
  },
  {
   "cell_type": "code",
   "execution_count": 16,
   "id": "555617a3",
   "metadata": {},
   "outputs": [
    {
     "data": {
      "text/plain": [
       "0.6659090909090909"
      ]
     },
     "execution_count": 16,
     "metadata": {},
     "output_type": "execute_result"
    }
   ],
   "source": [
    "accuracy_score(y_valid, y_pred)"
   ]
  },
  {
   "cell_type": "code",
   "execution_count": 17,
   "id": "36245be2",
   "metadata": {},
   "outputs": [
    {
     "data": {
      "text/plain": [
       "0.6654162399577045"
      ]
     },
     "execution_count": 17,
     "metadata": {},
     "output_type": "execute_result"
    }
   ],
   "source": [
    "f1_score(y_valid, y_pred, average=\"macro\")"
   ]
  },
  {
   "cell_type": "markdown",
   "id": "27a864c8",
   "metadata": {},
   "source": [
    "Ici on utilise la f1 score sans pondération. Dans notre cas le type d'erreur n'est pas un critère."
   ]
  },
  {
   "cell_type": "markdown",
   "id": "f8dffa14",
   "metadata": {},
   "source": [
    "# Matrice de confusion"
   ]
  },
  {
   "cell_type": "code",
   "execution_count": 18,
   "id": "e815d96c",
   "metadata": {},
   "outputs": [],
   "source": [
    "from sklearn import metrics\n",
    "import matplotlib.pyplot as plt\n",
    "import seaborn as sns"
   ]
  },
  {
   "cell_type": "code",
   "execution_count": 19,
   "id": "a9cced24",
   "metadata": {},
   "outputs": [
    {
     "data": {
      "image/png": "[encoded data removed]",
      "text/plain": [
       "<Figure size 640x480 with 2 Axes>"
      ]
     },
     "metadata": {},
     "output_type": "display_data"
    }
   ],
   "source": [
    "labels = ['TEL', 'HIN', 'CHI', 'KOR', 'JPN', 'FRE', 'SPA', 'ITA', 'TUR', 'ARA', 'GER']\n",
    "matrix = metrics.confusion_matrix(y_valid, y_pred, labels=labels)\n",
    "sns.heatmap(matrix, annot=True, fmt='.3g', xticklabels=labels, yticklabels=labels)\n",
    "plt.yticks(rotation=0)\n",
    "plt.show()"
   ]
  },
  {
   "cell_type": "code",
   "execution_count": null,
   "id": "1ef0f61f",
   "metadata": {},
   "outputs": [],
   "source": []
  }
 ],
 "metadata": {
  "kernelspec": {
   "display_name": "Python 3 (ipykernel)",
   "language": "python",
   "name": "python3"
  },
  "language_info": {
   "codemirror_mode": {
    "name": "ipython",
    "version": 3
   },
   "file_extension": ".py",
   "mimetype": "text/x-python",
   "name": "python",
   "nbconvert_exporter": "python",
   "pygments_lexer": "ipython3",
   "version": "3.8.10"
  }
 },
 "nbformat": 4,
 "nbformat_minor": 5
}
