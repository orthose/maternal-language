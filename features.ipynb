{
 "cells": [
  {
   "cell_type": "markdown",
   "id": "2c86a16a",
   "metadata": {},
   "source": [
    "# Features\n",
    "Création de nouvelles features pour aider le modèle.\n",
    "* Nombre de mots par document\n",
    "* Nombre de mots moyen par phrase\n",
    "* Nombre de mots de vocabulaire par document\n",
    "* Nombre de virgules par document\n",
    "* Nombre de mots avec des fautes d'orthographe\n",
    "* Comptage des consonnes doublées\n",
    "* Comptage du nombre de contractions"
   ]
  },
  {
   "cell_type": "code",
   "execution_count": 1,
   "id": "c97f116d",
   "metadata": {},
   "outputs": [],
   "source": [
    "from utils import load_data"
   ]
  },
  {
   "cell_type": "code",
   "execution_count": 2,
   "id": "36a90482",
   "metadata": {},
   "outputs": [],
   "source": [
    "# Chargement des données\n",
    "df = load_data(\"./data/train.txt\")\n",
    "X = df[\"text\"]"
   ]
  },
  {
   "cell_type": "code",
   "execution_count": null,
   "id": "3febd34c",
   "metadata": {},
   "outputs": [],
   "source": []
  }
 ],
 "metadata": {
  "kernelspec": {
   "display_name": "Python 3 (ipykernel)",
   "language": "python",
   "name": "python3"
  },
  "language_info": {
   "codemirror_mode": {
    "name": "ipython",
    "version": 3
   },
   "file_extension": ".py",
   "mimetype": "text/x-python",
   "name": "python",
   "nbconvert_exporter": "python",
   "pygments_lexer": "ipython3",
   "version": "3.8.10"
  }
 },
 "nbformat": 4,
 "nbformat_minor": 5
}
